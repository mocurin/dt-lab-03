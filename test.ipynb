{
 "cells": [],
 "metadata": {
  "interpreter": {
   "hash": "6763cea5d18f2cb3d876784998434d30e55a7875f1ad3d414d7ab11b37cb9e00"
  },
  "kernelspec": {
   "display_name": "Python 3.9.8 64-bit ('dt-lab-03-iIiuCh_T': pipenv)",
   "language": "python",
   "name": "python3"
  },
  "language_info": {
   "codemirror_mode": {
    "name": "ipython",
    "version": 3
   },
   "file_extension": ".py",
   "mimetype": "text/x-python",
   "name": "python",
   "nbconvert_exporter": "python",
   "pygments_lexer": "ipython3",
   "version": "3.9.8"
  },
  "orig_nbformat": 4
 },
 "nbformat": 4,
 "nbformat_minor": 2
}
