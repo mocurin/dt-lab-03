{
 "cells": [
  {
   "cell_type": "code",
   "execution_count": 1,
   "metadata": {},
   "outputs": [
    {
     "data": {
      "text/markdown": [
       "### Исходная задача в канонической форме"
      ]
     },
     "metadata": {},
     "output_type": "display_data"
    },
    {
     "data": {
      "text/markdown": [
       "$$F = 2x_1+5x_2+3x_3 \\rightarrow min$$"
      ]
     },
     "metadata": {},
     "output_type": "display_data"
    },
    {
     "data": {
      "text/markdown": [
       "$\\begin{cases}2x_1+x_2+2x_3+x_4 = 6\\\\\n",
       "x_1+2x_2+x_5 = 6\\\\\n",
       "0.5x_2+x_3+x_6 = 2\n",
       "\\end{cases}$"
      ]
     },
     "metadata": {},
     "output_type": "display_data"
    },
    {
     "data": {
      "text/markdown": [
       "$$x_0, x_1, x_2, x_3, x_4, x_5 ≥ 0$$"
      ]
     },
     "metadata": {},
     "output_type": "display_data"
    }
   ],
   "source": [
    "from simplexlib.src.table import Table, V, Format, Simplex, pretty_value\n",
    "from IPython.display import display_markdown\n",
    "\n",
    "from src.branch_and_bound import BranchAndBound\n",
    "\n",
    "source = Table.straight(\n",
    "    [2, 5, 3],\n",
    "    V[2, 1, 2] <= 6,\n",
    "    V[1, 2, 0] <= 6,\n",
    "    V[0, 0.5, 1] <= 2,\n",
    ") >> min\n",
    "\n",
    "\n",
    "display_markdown(\n",
    "    \"### Исходная задача в канонической форме\",\n",
    "    f\"${Format(source).target()}$\",\n",
    "    Format(source).system(),\n",
    "    f\"${Format(source).var_zero_constraint()}$\",\n",
    "    raw=True\n",
    ")"
   ]
  },
  {
   "cell_type": "code",
   "execution_count": 2,
   "metadata": {},
   "outputs": [
    {
     "data": {
      "text/markdown": [
       "### Решение исходной ЦЛП simplex-методом:"
      ]
     },
     "metadata": {},
     "output_type": "display_data"
    },
    {
     "data": {
      "text/markdown": [
       "#### Исходная таблица:"
      ]
     },
     "metadata": {},
     "output_type": "display_data"
    },
    {
     "data": {
      "text/markdown": [
       "|       |   $s_0$ |   $x_1$ |   $x_2$ |   $x_3$ |\n",
       "|:------|--------:|--------:|--------:|--------:|\n",
       "| $x_4$ |       6 |       2 |     1   |       2 |\n",
       "| $x_5$ |       6 |       1 |     2   |       0 |\n",
       "| $x_6$ |       2 |       0 |     0.5 |       1 |\n",
       "| $F$   |      -0 |      -2 |    -5   |      -3 |"
      ]
     },
     "metadata": {},
     "output_type": "display_data"
    },
    {
     "data": {
      "text/markdown": [
       "#### Индекс разрешающего элемента: (1, 2)"
      ]
     },
     "metadata": {},
     "output_type": "display_data"
    },
    {
     "data": {
      "text/markdown": [
       "|       |   $s_0$ |   $x_1$ |   $x_5$ |   $x_3$ |\n",
       "|:------|--------:|--------:|--------:|--------:|\n",
       "| $x_4$ |     3   |    1.5  |   -0.5  |       2 |\n",
       "| $x_2$ |     3   |    0.5  |    0.5  |       0 |\n",
       "| $x_6$ |     0.5 |   -0.25 |   -0.25 |       1 |\n",
       "| $F$   |    15   |    0.5  |    2.5  |      -3 |"
      ]
     },
     "metadata": {},
     "output_type": "display_data"
    },
    {
     "data": {
      "text/markdown": [
       "$x_4 = 3, x_2 = 3, x_6 = 0.5$, $x_1 = x_5 = x_3 = 0$"
      ]
     },
     "metadata": {},
     "output_type": "display_data"
    },
    {
     "data": {
      "text/markdown": [
       "#### Индекс разрешающего элемента: (2, 3)"
      ]
     },
     "metadata": {},
     "output_type": "display_data"
    },
    {
     "data": {
      "text/markdown": [
       "|       |   $s_0$ |   $x_1$ |   $x_5$ |   $x_6$ |\n",
       "|:------|--------:|--------:|--------:|--------:|\n",
       "| $x_4$ |     2   |    2    |    0    |      -2 |\n",
       "| $x_2$ |     3   |    0.5  |    0.5  |      -0 |\n",
       "| $x_3$ |     0.5 |   -0.25 |   -0.25 |       1 |\n",
       "| $F$   |    16.5 |   -0.25 |    1.75 |       3 |"
      ]
     },
     "metadata": {},
     "output_type": "display_data"
    },
    {
     "data": {
      "text/markdown": [
       "$x_4 = 2, x_2 = 3, x_3 = 0.5$, $x_1 = x_5 = x_6 = 0$"
      ]
     },
     "metadata": {},
     "output_type": "display_data"
    },
    {
     "data": {
      "text/markdown": [
       "#### Индекс разрешающего элемента: (0, 1)"
      ]
     },
     "metadata": {},
     "output_type": "display_data"
    },
    {
     "data": {
      "text/markdown": [
       "|       |   $s_0$ |   $x_4$ |   $x_5$ |   $x_6$ |\n",
       "|:------|--------:|--------:|--------:|--------:|\n",
       "| $x_1$ |    1    |    0.5  |    0    |   -1    |\n",
       "| $x_2$ |    2.5  |   -0.25 |    0.5  |    0.5  |\n",
       "| $x_3$ |    0.75 |    0.12 |   -0.25 |    0.75 |\n",
       "| $F$   |   16.75 |    0.12 |    1.75 |    2.75 |"
      ]
     },
     "metadata": {},
     "output_type": "display_data"
    },
    {
     "data": {
      "text/markdown": [
       "$x_1 = 1, x_2 = 2.5, x_3 = 0.75$, $x_4 = x_5 = x_6 = 0$"
      ]
     },
     "metadata": {},
     "output_type": "display_data"
    },
    {
     "data": {
      "text/markdown": [
       "#### Проверка решения"
      ]
     },
     "metadata": {},
     "output_type": "display_data"
    },
    {
     "data": {
      "text/markdown": [
       "$F = 16.75 = x_1+2.5x_2+0.75x_3 = 1\\cdot2+2.5\\cdot5+0.75\\cdot3 = 2+12.5+2.25 = 16.75$"
      ]
     },
     "metadata": {},
     "output_type": "display_data"
    }
   ],
   "source": [
    "sresult = Simplex.resolve(source >> max)\n",
    "\n",
    "display_markdown(\n",
    "    \"### Решение исходной ЦЛП simplex-методом:\",\n",
    "    \"#### Исходная таблица:\",\n",
    "    Format(source).table(),\n",
    "    raw=True,\n",
    ")\n",
    "\n",
    "for table, pos in zip(sresult.history, sresult.solvers):\n",
    "    display_markdown(\n",
    "        f\"#### Индекс разрешающего элемента: {pos}\",\n",
    "        Format(table).table(),\n",
    "        f\"{Format(table).base_vars()}, {Format(table).free_vars()}\",\n",
    "        raw=True,\n",
    "    )\n",
    "\n",
    "display_markdown(\n",
    "    \"#### Проверка решения\",\n",
    "    Format(table).check(sresult.source.c * -1),\n",
    "    raw=True\n",
    ")"
   ]
  },
  {
   "cell_type": "code",
   "execution_count": 3,
   "metadata": {},
   "outputs": [
    {
     "data": {
      "text/markdown": [
       "### Решение методом полного перебора"
      ]
     },
     "metadata": {},
     "output_type": "display_data"
    },
    {
     "data": {
      "text/markdown": [
       "Организуем полный перебор возможных значений исходных переменных. Полученные целочисленные решения:"
      ]
     },
     "metadata": {},
     "output_type": "display_data"
    },
    {
     "data": {
      "text/markdown": [
       "$F=0, X=(0, 0, 0)$\n",
       "\n",
       "$F=3, X=(0, 0, 1)$\n",
       "\n",
       "$F=6, X=(3, 0, 0)$\n",
       "\n",
       "$F=5, X=(1, 0, 1)$\n",
       "\n",
       "$F=8, X=(1, 0, 2)$\n",
       "\n",
       "$F=10, X=(1, 1, 1)$\n",
       "\n",
       "$F=13, X=(0, 2, 1)$\n",
       "\n",
       "$F=15, X=(1, 2, 1)$\n",
       "\n",
       "$F=2, X=(1, 0, 0)$\n",
       "\n",
       "$F=7, X=(2, 0, 1)$\n",
       "\n",
       "$F=12, X=(1, 2, 0)$\n",
       "\n",
       "$F=4, X=(2, 0, 0)$\n",
       "\n",
       "$F=9, X=(2, 1, 0)$\n",
       "\n",
       "$F=14, X=(2, 2, 0)$"
      ]
     },
     "metadata": {},
     "output_type": "display_data"
    },
    {
     "data": {
      "text/markdown": [
       "Максимальное значение функции $F=15.0$ достигается при $X=(1, 2, 1)$"
      ]
     },
     "metadata": {},
     "output_type": "display_data"
    }
   ],
   "source": [
    "from src.brute_force import BruteForce\n",
    "\n",
    "bresult = BruteForce.resolve(source >> min, sresult.result.F)\n",
    "\n",
    "\n",
    "display_markdown(\n",
    "    \"### Решение методом полного перебора\",\n",
    "    \"Организуем полный перебор возможных значений исходных переменных. Полученные целочисленные решения:\",\n",
    "    '\\n\\n'.join(f\"$F={pretty_value(key, 2)}, X={value}$\" for key, value in bresult.result.items()),\n",
    "    f\"Максимальное значение функции $F={bresult.maximum}$ достигается при $X={bresult.maxset}$\",\n",
    "    raw=True,\n",
    ")"
   ]
  },
  {
   "cell_type": "code",
   "execution_count": 4,
   "metadata": {},
   "outputs": [
    {
     "data": {
      "text/markdown": [
       "### Графическая визуализация решения при помощи метода ветвей и границ:"
      ]
     },
     "metadata": {},
     "output_type": "display_data"
    },
    {
     "data": {
      "image/svg+xml": "<?xml version=\"1.0\" encoding=\"UTF-8\" standalone=\"no\"?>\n<!DOCTYPE svg PUBLIC \"-//W3C//DTD SVG 1.1//EN\"\n \"http://www.w3.org/Graphics/SVG/1.1/DTD/svg11.dtd\">\n<!-- Generated by graphviz version 2.49.3 (20211023.0002)\n -->\n<!-- Pages: 1 -->\n<svg width=\"375pt\" height=\"315pt\"\n viewBox=\"0.00 0.00 375.00 315.00\" xmlns=\"http://www.w3.org/2000/svg\" xmlns:xlink=\"http://www.w3.org/1999/xlink\">\n<g id=\"graph0\" class=\"graph\" transform=\"scale(1 1) rotate(0) translate(4 311)\">\n<polygon fill=\"white\" stroke=\"transparent\" points=\"-4,4 -4,-311 371,-311 371,4 -4,4\"/>\n<!-- 4841254864 -->\n<g id=\"node1\" class=\"node\">\n<title>4841254864</title>\n<polygon fill=\"none\" stroke=\"black\" points=\"64,-268.5 64,-306.5 219,-306.5 219,-268.5 64,-268.5\"/>\n<text text-anchor=\"middle\" x=\"141.5\" y=\"-291.3\" font-family=\"Helvetica,sans-Serif\" font-size=\"14.00\">F=16.75</text>\n<text text-anchor=\"middle\" x=\"141.5\" y=\"-276.3\" font-family=\"Helvetica,sans-Serif\" font-size=\"14.00\">x1=1, x2=2.5, x3=0.75</text>\n</g>\n<!-- 4841252080 -->\n<g id=\"node2\" class=\"node\">\n<title>4841252080</title>\n<polygon fill=\"none\" stroke=\"black\" points=\"0,-178.5 0,-216.5 163,-216.5 163,-178.5 0,-178.5\"/>\n<text text-anchor=\"middle\" x=\"81.5\" y=\"-201.3\" font-family=\"Helvetica,sans-Serif\" font-size=\"14.00\">F=15</text>\n<text text-anchor=\"middle\" x=\"81.5\" y=\"-186.3\" font-family=\"Helvetica,sans-Serif\" font-size=\"14.00\">x1=1, x5=1, x3=1, x2=2</text>\n</g>\n<!-- 4841254864&#45;&gt;4841252080 -->\n<g id=\"edge1\" class=\"edge\">\n<title>4841254864&#45;&gt;4841252080</title>\n<path fill=\"none\" stroke=\"black\" d=\"M129.07,-268.27C120.54,-255.76 109.09,-238.96 99.56,-224.99\"/>\n<polygon fill=\"black\" stroke=\"black\" points=\"102.44,-223 93.92,-216.71 96.66,-226.94 102.44,-223\"/>\n<text text-anchor=\"middle\" x=\"131\" y=\"-238.8\" font-family=\"Helvetica,sans-Serif\" font-size=\"14.00\">x2≤2</text>\n</g>\n<!-- 4841249952 -->\n<g id=\"node3\" class=\"node\">\n<title>4841249952</title>\n<polygon fill=\"none\" stroke=\"black\" points=\"181,-178.5 181,-216.5 356,-216.5 356,-178.5 181,-178.5\"/>\n<text text-anchor=\"middle\" x=\"268.5\" y=\"-201.3\" font-family=\"Helvetica,sans-Serif\" font-size=\"14.00\">F=16.5</text>\n<text text-anchor=\"middle\" x=\"268.5\" y=\"-186.3\" font-family=\"Helvetica,sans-Serif\" font-size=\"14.00\">x4=2, x2=3, x3=0.5, x1=0</text>\n</g>\n<!-- 4841254864&#45;&gt;4841249952 -->\n<g id=\"edge2\" class=\"edge\">\n<title>4841254864&#45;&gt;4841249952</title>\n<path fill=\"none\" stroke=\"black\" d=\"M167.51,-268.48C186.64,-255.22 212.85,-237.06 233.78,-222.56\"/>\n<polygon fill=\"black\" stroke=\"black\" points=\"235.87,-225.37 242.09,-216.8 231.88,-219.62 235.87,-225.37\"/>\n<text text-anchor=\"middle\" x=\"228\" y=\"-238.8\" font-family=\"Helvetica,sans-Serif\" font-size=\"14.00\">x2≥3</text>\n</g>\n<!-- 4841249232 -->\n<g id=\"node4\" class=\"node\">\n<title>4841249232</title>\n<polygon fill=\"none\" stroke=\"black\" points=\"49,-88.5 49,-126.5 262,-126.5 262,-88.5 49,-88.5\"/>\n<text text-anchor=\"middle\" x=\"155.5\" y=\"-111.3\" font-family=\"Helvetica,sans-Serif\" font-size=\"14.00\">F=15</text>\n<text text-anchor=\"middle\" x=\"155.5\" y=\"-96.3\" font-family=\"Helvetica,sans-Serif\" font-size=\"14.00\">x4=3, x2=3, x6=0.5, x7=0, x3=0</text>\n</g>\n<!-- 4841249952&#45;&gt;4841249232 -->\n<g id=\"edge3\" class=\"edge\">\n<title>4841249952&#45;&gt;4841249232</title>\n<path fill=\"none\" stroke=\"black\" d=\"M245.36,-178.48C228.49,-165.34 205.43,-147.38 186.89,-132.95\"/>\n<polygon fill=\"black\" stroke=\"black\" points=\"189.04,-130.18 179,-126.8 184.74,-135.7 189.04,-130.18\"/>\n<text text-anchor=\"middle\" x=\"234\" y=\"-148.8\" font-family=\"Helvetica,sans-Serif\" font-size=\"14.00\">x3≤0</text>\n</g>\n<!-- 4841248080 -->\n<g id=\"node7\" class=\"node\">\n<title>4841248080</title>\n<polygon fill=\"none\" stroke=\"black\" points=\"280,-89.5 280,-125.5 367,-125.5 367,-89.5 280,-89.5\"/>\n<text text-anchor=\"middle\" x=\"323.5\" y=\"-103.8\" font-family=\"Helvetica,sans-Serif\" font-size=\"14.00\">No solution</text>\n</g>\n<!-- 4841249952&#45;&gt;4841248080 -->\n<g id=\"edge6\" class=\"edge\">\n<title>4841249952&#45;&gt;4841248080</title>\n<path fill=\"none\" stroke=\"black\" d=\"M279.9,-178.27C287.85,-165.55 298.57,-148.39 307.39,-134.28\"/>\n<polygon fill=\"black\" stroke=\"black\" points=\"310.53,-135.85 312.86,-125.52 304.6,-132.14 310.53,-135.85\"/>\n<text text-anchor=\"middle\" x=\"314\" y=\"-148.8\" font-family=\"Helvetica,sans-Serif\" font-size=\"14.00\">x3≥1</text>\n</g>\n<!-- 4841249040 -->\n<g id=\"node5\" class=\"node\">\n<title>4841249040</title>\n<polygon fill=\"none\" stroke=\"black\" points=\"60,-0.5 60,-36.5 147,-36.5 147,-0.5 60,-0.5\"/>\n<text text-anchor=\"middle\" x=\"103.5\" y=\"-14.8\" font-family=\"Helvetica,sans-Serif\" font-size=\"14.00\">No solution</text>\n</g>\n<!-- 4841249232&#45;&gt;4841249040 -->\n<g id=\"edge4\" class=\"edge\">\n<title>4841249232&#45;&gt;4841249040</title>\n<path fill=\"none\" stroke=\"black\" d=\"M144.73,-88.47C137.26,-75.98 127.2,-59.16 118.89,-45.26\"/>\n<polygon fill=\"black\" stroke=\"black\" points=\"121.86,-43.4 113.73,-36.62 115.86,-46.99 121.86,-43.4\"/>\n<text text-anchor=\"middle\" x=\"149\" y=\"-58.8\" font-family=\"Helvetica,sans-Serif\" font-size=\"14.00\">x6≤0</text>\n</g>\n<!-- 4841248608 -->\n<g id=\"node6\" class=\"node\">\n<title>4841248608</title>\n<polygon fill=\"none\" stroke=\"black\" points=\"165,-0.5 165,-36.5 252,-36.5 252,-0.5 165,-0.5\"/>\n<text text-anchor=\"middle\" x=\"208.5\" y=\"-14.8\" font-family=\"Helvetica,sans-Serif\" font-size=\"14.00\">No solution</text>\n</g>\n<!-- 4841249232&#45;&gt;4841248608 -->\n<g id=\"edge5\" class=\"edge\">\n<title>4841249232&#45;&gt;4841248608</title>\n<path fill=\"none\" stroke=\"black\" d=\"M166.48,-88.47C174.09,-75.98 184.34,-59.16 192.81,-45.26\"/>\n<polygon fill=\"black\" stroke=\"black\" points=\"195.86,-46.98 198.07,-36.62 189.88,-43.33 195.86,-46.98\"/>\n<text text-anchor=\"middle\" x=\"202\" y=\"-58.8\" font-family=\"Helvetica,sans-Serif\" font-size=\"14.00\">x6≥1</text>\n</g>\n</g>\n</svg>\n",
      "text/plain": [
       "<graphviz.graphs.Digraph at 0x1208fab80>"
      ]
     },
     "execution_count": 4,
     "metadata": {},
     "output_type": "execute_result"
    }
   ],
   "source": [
    "tree = BranchAndBound.resolve(source >> max)\n",
    "\n",
    "\n",
    "display_markdown(\n",
    "    \"### Графическая визуализация решения при помощи метода ветвей и границ:\",\n",
    "    raw=True\n",
    ")\n",
    "\n",
    "tree.visualize(\n",
    "    node_attr={\"shape\": \"record\", \"fontname\": \"helvetica\"},\n",
    "    graph_attr={},\n",
    "    edge_attr={\"fontname\": \"helvetica\"},\n",
    ")"
   ]
  },
  {
   "cell_type": "code",
   "execution_count": 5,
   "metadata": {},
   "outputs": [
    {
     "data": {
      "text/markdown": [
       "#### Исходная таблица"
      ]
     },
     "metadata": {},
     "output_type": "display_data"
    },
    {
     "data": {
      "text/markdown": [
       "|       |   $s_0$ |   $x_1$ |   $x_2$ |   $x_3$ |\n",
       "|:------|--------:|--------:|--------:|--------:|\n",
       "| $x_4$ |       6 |       2 |     1   |       2 |\n",
       "| $x_5$ |       6 |       1 |     2   |       0 |\n",
       "| $x_6$ |       2 |       0 |     0.5 |       1 |\n",
       "| $F$   |      -0 |      -2 |    -5   |      -3 |"
      ]
     },
     "metadata": {},
     "output_type": "display_data"
    },
    {
     "data": {
      "text/markdown": [
       "#### Конечная таблица"
      ]
     },
     "metadata": {},
     "output_type": "display_data"
    },
    {
     "data": {
      "text/markdown": [
       "|       |   $s_0$ |   $x_4$ |   $x_5$ |   $x_6$ |\n",
       "|:------|--------:|--------:|--------:|--------:|\n",
       "| $x_1$ |    1    |    0.5  |    0    |   -1    |\n",
       "| $x_2$ |    2.5  |   -0.25 |    0.5  |    0.5  |\n",
       "| $x_3$ |    0.75 |    0.12 |   -0.25 |    0.75 |\n",
       "| $F$   |   16.75 |    0.12 |    1.75 |    2.75 |"
      ]
     },
     "metadata": {},
     "output_type": "display_data"
    },
    {
     "data": {
      "text/markdown": [
       "$x_1 = 1, x_2 = 2.5, x_3 = 0.75$, $x_4 = x_5 = x_6 = 0$"
      ]
     },
     "metadata": {},
     "output_type": "display_data"
    },
    {
     "data": {
      "text/markdown": [
       "### Ветвление влево по $x_2≤2$"
      ]
     },
     "metadata": {},
     "output_type": "display_data"
    },
    {
     "data": {
      "text/markdown": [
       "#### Исходная таблица"
      ]
     },
     "metadata": {},
     "output_type": "display_data"
    },
    {
     "data": {
      "text/markdown": [
       "|       |   $s_0$ |   $x_1$ |   $x_2$ |   $x_3$ |\n",
       "|:------|--------:|--------:|--------:|--------:|\n",
       "| $x_4$ |       6 |       2 |     1   |       2 |\n",
       "| $x_5$ |       6 |       1 |     2   |       0 |\n",
       "| $x_6$ |       2 |       0 |     0.5 |       1 |\n",
       "| $x_7$ |       2 |       0 |     1   |       0 |\n",
       "| $F$   |      -0 |      -2 |    -5   |      -3 |"
      ]
     },
     "metadata": {},
     "output_type": "display_data"
    },
    {
     "data": {
      "text/markdown": [
       "#### Конечная таблица"
      ]
     },
     "metadata": {},
     "output_type": "display_data"
    },
    {
     "data": {
      "text/markdown": [
       "|       |   $s_0$ |   $x_4$ |   $x_7$ |   $x_6$ |\n",
       "|:------|--------:|--------:|--------:|--------:|\n",
       "| $x_1$ |       1 |     0.5 |     0   |      -1 |\n",
       "| $x_5$ |       1 |    -0.5 |    -2   |       1 |\n",
       "| $x_3$ |       1 |    -0   |    -0.5 |       1 |\n",
       "| $x_2$ |       2 |    -0   |     1   |       0 |\n",
       "| $F$   |      15 |     1   |     3.5 |       1 |"
      ]
     },
     "metadata": {},
     "output_type": "display_data"
    },
    {
     "data": {
      "text/markdown": [
       "$x_1 = 1, x_5 = 1, x_3 = 1, x_2 = 2$, $x_4 = x_5 = x_6 = 0$"
      ]
     },
     "metadata": {},
     "output_type": "display_data"
    },
    {
     "data": {
      "text/markdown": [
       "### Заканчиваем ветвление:"
      ]
     },
     "metadata": {},
     "output_type": "display_data"
    },
    {
     "data": {
      "text/markdown": [
       "$F=15, x_1=1, x_5=1, x_3=1, x_2=2$"
      ]
     },
     "metadata": {},
     "output_type": "display_data"
    },
    {
     "data": {
      "text/markdown": [
       "### Ветвление вправо по $x_2≥3$"
      ]
     },
     "metadata": {},
     "output_type": "display_data"
    },
    {
     "data": {
      "text/markdown": [
       "#### Исходная таблица"
      ]
     },
     "metadata": {},
     "output_type": "display_data"
    },
    {
     "data": {
      "text/markdown": [
       "|       |   $s_0$ |   $x_1$ |   $x_2$ |   $x_3$ |\n",
       "|:------|--------:|--------:|--------:|--------:|\n",
       "| $x_4$ |       6 |       2 |     1   |       2 |\n",
       "| $x_5$ |       6 |       1 |     2   |       0 |\n",
       "| $x_6$ |       2 |       0 |     0.5 |       1 |\n",
       "| $x_7$ |      -3 |      -0 |    -1   |      -0 |\n",
       "| $F$   |      -0 |      -2 |    -5   |      -3 |"
      ]
     },
     "metadata": {},
     "output_type": "display_data"
    },
    {
     "data": {
      "text/markdown": [
       "#### Конечная таблица"
      ]
     },
     "metadata": {},
     "output_type": "display_data"
    },
    {
     "data": {
      "text/markdown": [
       "|       |   $s_0$ |   $x_7$ |   $x_5$ |   $x_6$ |\n",
       "|:------|--------:|--------:|--------:|--------:|\n",
       "| $x_4$ |     2   |    -4   |      -2 |      -2 |\n",
       "| $x_2$ |     3   |    -1   |       0 |       0 |\n",
       "| $x_3$ |     0.5 |     0.5 |       0 |       1 |\n",
       "| $x_1$ |     0   |     2   |       1 |      -0 |\n",
       "| $F$   |    16.5 |     0.5 |       2 |       3 |"
      ]
     },
     "metadata": {},
     "output_type": "display_data"
    },
    {
     "data": {
      "text/markdown": [
       "$x_4 = 2, x_2 = 3, x_3 = 0.5, x_1 = 0$, $x_4 = x_5 = x_6 = 0$"
      ]
     },
     "metadata": {},
     "output_type": "display_data"
    },
    {
     "data": {
      "text/markdown": [
       "### Ветвление влево по $x_3≤0$"
      ]
     },
     "metadata": {},
     "output_type": "display_data"
    },
    {
     "data": {
      "text/markdown": [
       "#### Исходная таблица"
      ]
     },
     "metadata": {},
     "output_type": "display_data"
    },
    {
     "data": {
      "text/markdown": [
       "|       |   $s_0$ |   $x_1$ |   $x_2$ |   $x_3$ |\n",
       "|:------|--------:|--------:|--------:|--------:|\n",
       "| $x_4$ |       6 |       2 |     1   |       2 |\n",
       "| $x_5$ |       6 |       1 |     2   |       0 |\n",
       "| $x_6$ |       2 |       0 |     0.5 |       1 |\n",
       "| $x_7$ |      -3 |      -0 |    -1   |      -0 |\n",
       "| $x_8$ |       0 |       0 |     0   |       1 |\n",
       "| $F$   |      -0 |      -2 |    -5   |      -3 |"
      ]
     },
     "metadata": {},
     "output_type": "display_data"
    },
    {
     "data": {
      "text/markdown": [
       "#### Конечная таблица"
      ]
     },
     "metadata": {},
     "output_type": "display_data"
    },
    {
     "data": {
      "text/markdown": [
       "|       |   $s_0$ |   $x_1$ |   $x_5$ |   $x_8$ |\n",
       "|:------|--------:|--------:|--------:|--------:|\n",
       "| $x_4$ |     3   |    1.5  |   -0.5  |      -2 |\n",
       "| $x_2$ |     3   |    0.5  |    0.5  |      -0 |\n",
       "| $x_6$ |     0.5 |   -0.25 |   -0.25 |      -1 |\n",
       "| $x_7$ |     0   |    0.5  |    0.5  |      -0 |\n",
       "| $x_3$ |     0   |    0    |   -0    |       1 |\n",
       "| $F$   |    15   |    0.5  |    2.5  |       3 |"
      ]
     },
     "metadata": {},
     "output_type": "display_data"
    },
    {
     "data": {
      "text/markdown": [
       "$x_4 = 3, x_2 = 3, x_6 = 0.5, x_7 = 0, x_3 = 0$, $x_4 = x_5 = x_6 = 0$"
      ]
     },
     "metadata": {},
     "output_type": "display_data"
    },
    {
     "data": {
      "text/markdown": [
       "### Ветвление влево по $x_6≤0$"
      ]
     },
     "metadata": {},
     "output_type": "display_data"
    },
    {
     "data": {
      "text/markdown": [
       "#### Исходная таблица"
      ]
     },
     "metadata": {},
     "output_type": "display_data"
    },
    {
     "data": {
      "text/markdown": [
       "|       |   $s_0$ |   $x_1$ |   $x_2$ |   $x_3$ |\n",
       "|:------|--------:|--------:|--------:|--------:|\n",
       "| $x_4$ |       6 |       2 |     1   |       2 |\n",
       "| $x_5$ |       6 |       1 |     2   |       0 |\n",
       "| $x_6$ |       2 |       0 |     0.5 |       1 |\n",
       "| $x_7$ |      -3 |      -0 |    -1   |      -0 |\n",
       "| $x_8$ |       0 |       0 |     0   |       1 |\n",
       "| $x_9$ |       0 |       0 |     0   |       1 |\n",
       "| $F$   |      -0 |      -2 |    -5   |      -3 |"
      ]
     },
     "metadata": {},
     "output_type": "display_data"
    },
    {
     "data": {
      "text/markdown": [
       "#### Конечная таблица"
      ]
     },
     "metadata": {},
     "output_type": "display_data"
    },
    {
     "data": {
      "text/markdown": [
       "|       |   $s_0$ |   $x_1$ |   $x_5$ |   $x_8$ |\n",
       "|:------|--------:|--------:|--------:|--------:|\n",
       "| $x_4$ |     3   |    1.5  |   -0.5  |      -2 |\n",
       "| $x_2$ |     3   |    0.5  |    0.5  |      -0 |\n",
       "| $x_6$ |     0.5 |   -0.25 |   -0.25 |      -1 |\n",
       "| $x_7$ |     0   |    0.5  |    0.5  |      -0 |\n",
       "| $x_3$ |     0   |    0    |   -0    |       1 |\n",
       "| $x_9$ |     0   |    0    |    0    |      -1 |\n",
       "| $F$   |    15   |    0.5  |    2.5  |       3 |"
      ]
     },
     "metadata": {},
     "output_type": "display_data"
    },
    {
     "data": {
      "text/markdown": [
       "$x_4 = 3, x_2 = 3, x_6 = 0.5, x_7 = 0, x_3 = 0, x_9 = 0$, $x_4 = x_5 = x_6 = 0$"
      ]
     },
     "metadata": {},
     "output_type": "display_data"
    },
    {
     "data": {
      "text/markdown": [
       "### Заканчиваем ветвление:"
      ]
     },
     "metadata": {},
     "output_type": "display_data"
    },
    {
     "data": {
      "text/markdown": [
       "No solution"
      ]
     },
     "metadata": {},
     "output_type": "display_data"
    },
    {
     "data": {
      "text/markdown": [
       "### Ветвление вправо по $x_6≥1$"
      ]
     },
     "metadata": {},
     "output_type": "display_data"
    },
    {
     "data": {
      "text/markdown": [
       "#### Исходная таблица"
      ]
     },
     "metadata": {},
     "output_type": "display_data"
    },
    {
     "data": {
      "text/markdown": [
       "|       |   $s_0$ |   $x_1$ |   $x_2$ |   $x_3$ |\n",
       "|:------|--------:|--------:|--------:|--------:|\n",
       "| $x_4$ |       6 |       2 |     1   |       2 |\n",
       "| $x_5$ |       6 |       1 |     2   |       0 |\n",
       "| $x_6$ |       2 |       0 |     0.5 |       1 |\n",
       "| $x_7$ |      -3 |      -0 |    -1   |      -0 |\n",
       "| $x_8$ |       0 |       0 |     0   |       1 |\n",
       "| $x_9$ |      -1 |      -0 |    -0   |      -1 |\n",
       "| $F$   |      -0 |      -2 |    -5   |      -3 |"
      ]
     },
     "metadata": {},
     "output_type": "display_data"
    },
    {
     "data": {
      "text/markdown": [
       "#### Конечная таблица"
      ]
     },
     "metadata": {},
     "output_type": "display_data"
    },
    {
     "data": {
      "text/markdown": [
       "|       |   $s_0$ |   $x_1$ |   $x_5$ |   $x_8$ |\n",
       "|:------|--------:|--------:|--------:|--------:|\n",
       "| $x_4$ |     3   |    1.5  |   -0.5  |      -2 |\n",
       "| $x_2$ |     3   |    0.5  |    0.5  |      -0 |\n",
       "| $x_6$ |     0.5 |   -0.25 |   -0.25 |      -1 |\n",
       "| $x_7$ |     0   |    0.5  |    0.5  |      -0 |\n",
       "| $x_3$ |     0   |    0    |   -0    |       1 |\n",
       "| $x_9$ |    -1   |    0    |    0    |       1 |\n",
       "| $F$   |    15   |    0.5  |    2.5  |       3 |"
      ]
     },
     "metadata": {},
     "output_type": "display_data"
    },
    {
     "data": {
      "text/markdown": [
       "Нет решений"
      ]
     },
     "metadata": {},
     "output_type": "display_data"
    },
    {
     "data": {
      "text/markdown": [
       "### Заканчиваем ветвление:"
      ]
     },
     "metadata": {},
     "output_type": "display_data"
    },
    {
     "data": {
      "text/markdown": [
       "No solution"
      ]
     },
     "metadata": {},
     "output_type": "display_data"
    },
    {
     "data": {
      "text/markdown": [
       "### Ветвление вправо по $x_3≥1$"
      ]
     },
     "metadata": {},
     "output_type": "display_data"
    },
    {
     "data": {
      "text/markdown": [
       "#### Исходная таблица"
      ]
     },
     "metadata": {},
     "output_type": "display_data"
    },
    {
     "data": {
      "text/markdown": [
       "|       |   $s_0$ |   $x_1$ |   $x_2$ |   $x_3$ |\n",
       "|:------|--------:|--------:|--------:|--------:|\n",
       "| $x_4$ |       6 |       2 |     1   |       2 |\n",
       "| $x_5$ |       6 |       1 |     2   |       0 |\n",
       "| $x_6$ |       2 |       0 |     0.5 |       1 |\n",
       "| $x_7$ |      -3 |      -0 |    -1   |      -0 |\n",
       "| $x_8$ |      -1 |      -0 |    -0   |      -1 |\n",
       "| $F$   |      -0 |      -2 |    -5   |      -3 |"
      ]
     },
     "metadata": {},
     "output_type": "display_data"
    },
    {
     "data": {
      "text/markdown": [
       "#### Конечная таблица"
      ]
     },
     "metadata": {},
     "output_type": "display_data"
    },
    {
     "data": {
      "text/markdown": [
       "|       |   $s_0$ |   $x_7$ |   $x_5$ |   $x_6$ |\n",
       "|:------|--------:|--------:|--------:|--------:|\n",
       "| $x_4$ |     2   |    -4   |      -2 |      -2 |\n",
       "| $x_2$ |     3   |    -1   |       0 |       0 |\n",
       "| $x_3$ |     0.5 |     0.5 |       0 |       1 |\n",
       "| $x_1$ |     0   |     2   |       1 |      -0 |\n",
       "| $x_8$ |    -0.5 |     0.5 |       0 |       1 |\n",
       "| $F$   |    16.5 |     0.5 |       2 |       3 |"
      ]
     },
     "metadata": {},
     "output_type": "display_data"
    },
    {
     "data": {
      "text/markdown": [
       "Нет решений"
      ]
     },
     "metadata": {},
     "output_type": "display_data"
    },
    {
     "data": {
      "text/markdown": [
       "### Заканчиваем ветвление:"
      ]
     },
     "metadata": {},
     "output_type": "display_data"
    },
    {
     "data": {
      "text/markdown": [
       "No solution"
      ]
     },
     "metadata": {},
     "output_type": "display_data"
    }
   ],
   "source": [
    "def expose_node(node):\n",
    "    result = node.data\n",
    "\n",
    "    display_markdown(\n",
    "        f\"#### Исходная таблица\",\n",
    "        Format(result.source).table(),\n",
    "        f\"#### Конечная таблица\",\n",
    "        Format(result.history[-1]).table(),\n",
    "        f\"{Format(result.history[-1]).base_vars()}, {Format(table).free_vars()}\" if result.solved else \"Нет решений\",\n",
    "        raw=True,\n",
    "    )\n",
    "    \n",
    "    if node.left:\n",
    "        display_markdown(\n",
    "            f\"### Ветвление влево по {node.left.label(pretty=True)}\",\n",
    "            raw=True,\n",
    "        )\n",
    "\n",
    "        expose_node(node.left.target)\n",
    "    \n",
    "    if node.right:\n",
    "        display_markdown(\n",
    "            f\"### Ветвление вправо по {node.right.label(pretty=True)}\",\n",
    "            raw=True,\n",
    "        )\n",
    "\n",
    "        expose_node(node.right.target)\n",
    "    \n",
    "    if not node.left and not node.right:\n",
    "        display_markdown(\n",
    "            f\"### Заканчиваем ветвление:\",\n",
    "            node.label(pretty=True),\n",
    "            raw=True,\n",
    "        )\n",
    "\n",
    "expose_node(tree)"
   ]
  },
  {
   "cell_type": "code",
   "execution_count": 6,
   "metadata": {},
   "outputs": [
    {
     "data": {
      "text/markdown": [
       "### Целочисленные решения:"
      ]
     },
     "metadata": {},
     "output_type": "display_data"
    },
    {
     "data": {
      "text/markdown": [
       "$F=15$, $x_1 = 1, x_2 = 2, x_3 = 1$"
      ]
     },
     "metadata": {},
     "output_type": "display_data"
    }
   ],
   "source": [
    "solutions = [node.data.result for node in tree.leaves if not node.invalid]\n",
    "\n",
    "display_markdown(\n",
    "    \"### Целочисленные решения:\",\n",
    "    *[\n",
    "        ', '.join([\n",
    "            f\"$F={pretty_value(table.result, 2)}$\",\n",
    "            Format(table).solution(),\n",
    "        ])\n",
    "        for table in solutions\n",
    "    ],\n",
    "    raw=True, \n",
    ")"
   ]
  }
 ],
 "metadata": {
  "interpreter": {
   "hash": "6763cea5d18f2cb3d876784998434d30e55a7875f1ad3d414d7ab11b37cb9e00"
  },
  "kernelspec": {
   "display_name": "Python 3.9.7 64-bit ('dt-lab-03-iIiuCh_T': pipenv)",
   "language": "python",
   "name": "python3"
  },
  "language_info": {
   "codemirror_mode": {
    "name": "ipython",
    "version": 3
   },
   "file_extension": ".py",
   "mimetype": "text/x-python",
   "name": "python",
   "nbconvert_exporter": "python",
   "pygments_lexer": "ipython3",
   "version": "3.9.8"
  },
  "orig_nbformat": 4
 },
 "nbformat": 4,
 "nbformat_minor": 2
}
