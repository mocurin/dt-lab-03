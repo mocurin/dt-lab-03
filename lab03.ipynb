{
 "cells": [
  {
   "cell_type": "code",
   "execution_count": 1,
   "metadata": {},
   "outputs": [
    {
     "data": {
      "text/markdown": [
       "### Исходная задача в канонической форме"
      ]
     },
     "metadata": {},
     "output_type": "display_data"
    },
    {
     "data": {
      "text/markdown": [
       "$$F = 2x_1+5x_2+3x_3 \\rightarrow min$$"
      ]
     },
     "metadata": {},
     "output_type": "display_data"
    },
    {
     "data": {
      "text/markdown": [
       "$\\begin{cases}2x_1+x_2+2x_3+x_4 = 6\\\\\n",
       "x_1+2x_2+x_5 = 6\\\\\n",
       "0.5x_2+x_3+x_6 = 2\n",
       "\\end{cases}$"
      ]
     },
     "metadata": {},
     "output_type": "display_data"
    },
    {
     "data": {
      "text/markdown": [
       "$$x_0, x_1, x_2, x_3, x_4, x_5 ≥ 0$$"
      ]
     },
     "metadata": {},
     "output_type": "display_data"
    }
   ],
   "source": [
    "from simplexlib.src.table import Table, V, Format, Simplex, pretty_value\n",
    "from IPython.display import display_markdown\n",
    "\n",
    "from src.branch_and_bound import BranchAndBound\n",
    "\n",
    "source = Table.straight(\n",
    "    [2, 5, 3],\n",
    "    V[2, 1, 2] <= 6,\n",
    "    V[1, 2, 0] <= 6,\n",
    "    V[0, 0.5, 1] <= 2,\n",
    ") >> min\n",
    "\n",
    "\n",
    "display_markdown(\n",
    "    \"### Исходная задача в канонической форме\",\n",
    "    f\"${Format(source).target()}$\",\n",
    "    Format(source).system(),\n",
    "    f\"${Format(source).var_zero_constraint()}$\",\n",
    "    raw=True\n",
    ")"
   ]
  },
  {
   "cell_type": "code",
   "execution_count": 2,
   "metadata": {},
   "outputs": [
    {
     "data": {
      "text/markdown": [
       "### Решение исходной ЦЛП simplex-методом:"
      ]
     },
     "metadata": {},
     "output_type": "display_data"
    },
    {
     "data": {
      "text/markdown": [
       "#### Исходная таблица:"
      ]
     },
     "metadata": {},
     "output_type": "display_data"
    },
    {
     "data": {
      "text/markdown": [
       "|       |   $s_0$ |   $x_1$ |   $x_2$ |   $x_3$ |\n",
       "|:------|--------:|--------:|--------:|--------:|\n",
       "| $x_4$ |       6 |       2 |     1   |       2 |\n",
       "| $x_5$ |       6 |       1 |     2   |       0 |\n",
       "| $x_6$ |       2 |       0 |     0.5 |       1 |\n",
       "| $F$   |      -0 |      -2 |    -5   |      -3 |"
      ]
     },
     "metadata": {},
     "output_type": "display_data"
    },
    {
     "data": {
      "text/markdown": [
       "#### Индекс разрешающего элемента: (1, 2)"
      ]
     },
     "metadata": {},
     "output_type": "display_data"
    },
    {
     "data": {
      "text/markdown": [
       "|       |   $s_0$ |   $x_1$ |   $x_5$ |   $x_3$ |\n",
       "|:------|--------:|--------:|--------:|--------:|\n",
       "| $x_4$ |     3   |    1.5  |   -0.5  |       2 |\n",
       "| $x_2$ |     3   |    0.5  |    0.5  |       0 |\n",
       "| $x_6$ |     0.5 |   -0.25 |   -0.25 |       1 |\n",
       "| $F$   |    15   |    0.5  |    2.5  |      -3 |"
      ]
     },
     "metadata": {},
     "output_type": "display_data"
    },
    {
     "data": {
      "text/markdown": [
       "$x_4 = 3, x_2 = 3, x_6 = 0.5$, $x_1 = x_5 = x_3 = 0$"
      ]
     },
     "metadata": {},
     "output_type": "display_data"
    },
    {
     "data": {
      "text/markdown": [
       "#### Индекс разрешающего элемента: (2, 3)"
      ]
     },
     "metadata": {},
     "output_type": "display_data"
    },
    {
     "data": {
      "text/markdown": [
       "|       |   $s_0$ |   $x_1$ |   $x_5$ |   $x_6$ |\n",
       "|:------|--------:|--------:|--------:|--------:|\n",
       "| $x_4$ |     2   |    2    |    0    |      -2 |\n",
       "| $x_2$ |     3   |    0.5  |    0.5  |      -0 |\n",
       "| $x_3$ |     0.5 |   -0.25 |   -0.25 |       1 |\n",
       "| $F$   |    16.5 |   -0.25 |    1.75 |       3 |"
      ]
     },
     "metadata": {},
     "output_type": "display_data"
    },
    {
     "data": {
      "text/markdown": [
       "$x_4 = 2, x_2 = 3, x_3 = 0.5$, $x_1 = x_5 = x_6 = 0$"
      ]
     },
     "metadata": {},
     "output_type": "display_data"
    },
    {
     "data": {
      "text/markdown": [
       "#### Индекс разрешающего элемента: (0, 1)"
      ]
     },
     "metadata": {},
     "output_type": "display_data"
    },
    {
     "data": {
      "text/markdown": [
       "|       |   $s_0$ |   $x_4$ |   $x_5$ |   $x_6$ |\n",
       "|:------|--------:|--------:|--------:|--------:|\n",
       "| $x_1$ |    1    |    0.5  |    0    |   -1    |\n",
       "| $x_2$ |    2.5  |   -0.25 |    0.5  |    0.5  |\n",
       "| $x_3$ |    0.75 |    0.12 |   -0.25 |    0.75 |\n",
       "| $F$   |   16.75 |    0.12 |    1.75 |    2.75 |"
      ]
     },
     "metadata": {},
     "output_type": "display_data"
    },
    {
     "data": {
      "text/markdown": [
       "$x_1 = 1, x_2 = 2.5, x_3 = 0.75$, $x_4 = x_5 = x_6 = 0$"
      ]
     },
     "metadata": {},
     "output_type": "display_data"
    },
    {
     "data": {
      "text/markdown": [
       "#### Проверка решения"
      ]
     },
     "metadata": {},
     "output_type": "display_data"
    },
    {
     "data": {
      "text/markdown": [
       "$F = 16.75 = x_1+2.5x_2+0.75x_3 = 1\\cdot2+2.5\\cdot5+0.75\\cdot3 = 2+12.5+2.25 = 16.75$"
      ]
     },
     "metadata": {},
     "output_type": "display_data"
    }
   ],
   "source": [
    "sresult = Simplex.resolve(source >> max)\n",
    "\n",
    "display_markdown(\n",
    "    \"### Решение исходной ЦЛП simplex-методом:\",\n",
    "    \"#### Исходная таблица:\",\n",
    "    Format(source).table(),\n",
    "    raw=True,\n",
    ")\n",
    "\n",
    "for table, pos in zip(sresult.history, sresult.solvers):\n",
    "    display_markdown(\n",
    "        f\"#### Индекс разрешающего элемента: {pos}\",\n",
    "        Format(table).table(),\n",
    "        f\"{Format(table).base_vars()}, {Format(table).free_vars()}\",\n",
    "        raw=True,\n",
    "    )\n",
    "\n",
    "display_markdown(\n",
    "    \"#### Проверка решения\",\n",
    "    Format(table).check(sresult.source.c * -1),\n",
    "    raw=True\n",
    ")"
   ]
  },
  {
   "cell_type": "code",
   "execution_count": 3,
   "metadata": {},
   "outputs": [
    {
     "data": {
      "text/markdown": [
       "### Решение методом полного перебора"
      ]
     },
     "metadata": {},
     "output_type": "display_data"
    },
    {
     "data": {
      "text/markdown": [
       "Организуем полный перебор возможных значений исходных переменных. Полученные целочисленные решения:"
      ]
     },
     "metadata": {},
     "output_type": "display_data"
    },
    {
     "data": {
      "text/markdown": [
       "$F=0, X=(0, 0, 0)$\n",
       "\n",
       "$F=3, X=(0, 0, 1)$\n",
       "\n",
       "$F=6, X=(3, 0, 0)$\n",
       "\n",
       "$F=5, X=(1, 0, 1)$\n",
       "\n",
       "$F=8, X=(1, 0, 2)$\n",
       "\n",
       "$F=10, X=(1, 1, 1)$\n",
       "\n",
       "$F=13, X=(0, 2, 1)$\n",
       "\n",
       "$F=15, X=(1, 2, 1)$\n",
       "\n",
       "$F=2, X=(1, 0, 0)$\n",
       "\n",
       "$F=7, X=(2, 0, 1)$\n",
       "\n",
       "$F=12, X=(1, 2, 0)$\n",
       "\n",
       "$F=4, X=(2, 0, 0)$\n",
       "\n",
       "$F=9, X=(2, 1, 0)$\n",
       "\n",
       "$F=14, X=(2, 2, 0)$"
      ]
     },
     "metadata": {},
     "output_type": "display_data"
    },
    {
     "data": {
      "text/markdown": [
       "Максимальное значение функции $F=15.0$ достигается при $X=(1, 2, 1)$"
      ]
     },
     "metadata": {},
     "output_type": "display_data"
    }
   ],
   "source": [
    "from src.brute_force import BruteForce\n",
    "\n",
    "bresult = BruteForce.resolve(source >> min, sresult.result.F)\n",
    "\n",
    "\n",
    "display_markdown(\n",
    "    \"### Решение методом полного перебора\",\n",
    "    \"Организуем полный перебор возможных значений исходных переменных. Полученные целочисленные решения:\",\n",
    "    '\\n\\n'.join(f\"$F={pretty_value(key, 2)}, X={value}$\" for key, value in bresult.result.items()),\n",
    "    f\"Максимальное значение функции $F={bresult.maximum}$ достигается при $X={bresult.maxset}$\",\n",
    "    raw=True,\n",
    ")"
   ]
  },
  {
   "cell_type": "code",
   "execution_count": 4,
   "metadata": {},
   "outputs": [
    {
     "data": {
      "text/markdown": [
       "### Графическая визуализация решения при помощи метода ветвей и границ:"
      ]
     },
     "metadata": {},
     "output_type": "display_data"
    },
    {
     "data": {
      "image/svg+xml": "<?xml version=\"1.0\" encoding=\"UTF-8\" standalone=\"no\"?>\n<!DOCTYPE svg PUBLIC \"-//W3C//DTD SVG 1.1//EN\"\n \"http://www.w3.org/Graphics/SVG/1.1/DTD/svg11.dtd\">\n<!-- Generated by graphviz version 2.40.1 (20161225.0304)\n -->\n<!-- Title: %3 Pages: 1 -->\n<svg width=\"368pt\" height=\"315pt\"\n viewBox=\"0.00 0.00 367.50 315.00\" xmlns=\"http://www.w3.org/2000/svg\" xmlns:xlink=\"http://www.w3.org/1999/xlink\">\n<g id=\"graph0\" class=\"graph\" transform=\"scale(1 1) rotate(0) translate(4 311)\">\n<title>%3</title>\n<polygon fill=\"#ffffff\" stroke=\"transparent\" points=\"-4,4 -4,-311 363.5,-311 363.5,4 -4,4\"/>\n<!-- 139833136953616 -->\n<g id=\"node1\" class=\"node\">\n<title>139833136953616</title>\n<polygon fill=\"none\" stroke=\"#000000\" points=\"30.5,-268.5 30.5,-306.5 182.5,-306.5 182.5,-268.5 30.5,-268.5\"/>\n<text text-anchor=\"middle\" x=\"106.5\" y=\"-291.3\" font-family=\"Helvetica,sans-Serif\" font-size=\"14.00\" fill=\"#000000\">F=16.75</text>\n<text text-anchor=\"middle\" x=\"106.5\" y=\"-276.3\" font-family=\"Helvetica,sans-Serif\" font-size=\"14.00\" fill=\"#000000\">x1=1, x2=2.5, x3=0.75</text>\n</g>\n<!-- 139833136954432 -->\n<g id=\"node2\" class=\"node\">\n<title>139833136954432</title>\n<polygon fill=\"none\" stroke=\"#000000\" points=\"0,-178.5 0,-216.5 159,-216.5 159,-178.5 0,-178.5\"/>\n<text text-anchor=\"middle\" x=\"79.5\" y=\"-201.3\" font-family=\"Helvetica,sans-Serif\" font-size=\"14.00\" fill=\"#000000\">F=15</text>\n<text text-anchor=\"middle\" x=\"79.5\" y=\"-186.3\" font-family=\"Helvetica,sans-Serif\" font-size=\"14.00\" fill=\"#000000\">x1=1, x5=1, x3=1, x2=2</text>\n</g>\n<!-- 139833136953616&#45;&gt;139833136954432 -->\n<g id=\"edge1\" class=\"edge\">\n<title>139833136953616&#45;&gt;139833136954432</title>\n<path fill=\"none\" stroke=\"#000000\" d=\"M100.774,-268.4133C97.1227,-256.2424 92.3205,-240.2351 88.2028,-226.5093\"/>\n<polygon fill=\"#000000\" stroke=\"#000000\" points=\"91.4437,-225.1317 85.2178,-216.5592 84.7389,-227.1432 91.4437,-225.1317\"/>\n<text text-anchor=\"middle\" x=\"111\" y=\"-238.8\" font-family=\"Helvetica,sans-Serif\" font-size=\"14.00\" fill=\"#000000\">x2≤2</text>\n</g>\n<!-- 139832234211648 -->\n<g id=\"node3\" class=\"node\">\n<title>139832234211648</title>\n<polygon fill=\"none\" stroke=\"#000000\" points=\"177.5,-178.5 177.5,-216.5 347.5,-216.5 347.5,-178.5 177.5,-178.5\"/>\n<text text-anchor=\"middle\" x=\"262.5\" y=\"-201.3\" font-family=\"Helvetica,sans-Serif\" font-size=\"14.00\" fill=\"#000000\">F=16.5</text>\n<text text-anchor=\"middle\" x=\"262.5\" y=\"-186.3\" font-family=\"Helvetica,sans-Serif\" font-size=\"14.00\" fill=\"#000000\">x4=2, x2=3, x3=0.5, x1=0</text>\n</g>\n<!-- 139833136953616&#45;&gt;139832234211648 -->\n<g id=\"edge2\" class=\"edge\">\n<title>139833136953616&#45;&gt;139832234211648</title>\n<path fill=\"none\" stroke=\"#000000\" d=\"M139.5836,-268.4133C163.2652,-254.7509 195.3262,-236.2541 220.7663,-221.5771\"/>\n<polygon fill=\"#000000\" stroke=\"#000000\" points=\"222.5513,-224.5881 229.4641,-216.5592 219.0532,-218.5248 222.5513,-224.5881\"/>\n<text text-anchor=\"middle\" x=\"210\" y=\"-238.8\" font-family=\"Helvetica,sans-Serif\" font-size=\"14.00\" fill=\"#000000\">x2≥3</text>\n</g>\n<!-- 139833136647424 -->\n<g id=\"node4\" class=\"node\">\n<title>139833136647424</title>\n<polygon fill=\"none\" stroke=\"#000000\" points=\"49.5,-88.5 49.5,-126.5 257.5,-126.5 257.5,-88.5 49.5,-88.5\"/>\n<text text-anchor=\"middle\" x=\"153.5\" y=\"-111.3\" font-family=\"Helvetica,sans-Serif\" font-size=\"14.00\" fill=\"#000000\">F=15</text>\n<text text-anchor=\"middle\" x=\"153.5\" y=\"-96.3\" font-family=\"Helvetica,sans-Serif\" font-size=\"14.00\" fill=\"#000000\">x4=3, x2=3, x6=0.5, x7=0, x3=0</text>\n</g>\n<!-- 139832234211648&#45;&gt;139833136647424 -->\n<g id=\"edge3\" class=\"edge\">\n<title>139832234211648&#45;&gt;139833136647424</title>\n<path fill=\"none\" stroke=\"#000000\" d=\"M239.3839,-178.4133C223.343,-165.1685 201.7996,-147.3804 184.3028,-132.9335\"/>\n<polygon fill=\"#000000\" stroke=\"#000000\" points=\"186.5224,-130.2273 176.5828,-126.5592 182.0655,-135.6251 186.5224,-130.2273\"/>\n<text text-anchor=\"middle\" x=\"231\" y=\"-148.8\" font-family=\"Helvetica,sans-Serif\" font-size=\"14.00\" fill=\"#000000\">x3≤0</text>\n</g>\n<!-- 139832234001072 -->\n<g id=\"node7\" class=\"node\">\n<title>139832234001072</title>\n<polygon fill=\"none\" stroke=\"#000000\" points=\"275.5,-89.5 275.5,-125.5 359.5,-125.5 359.5,-89.5 275.5,-89.5\"/>\n<text text-anchor=\"middle\" x=\"317.5\" y=\"-103.8\" font-family=\"Helvetica,sans-Serif\" font-size=\"14.00\" fill=\"#000000\">No solution</text>\n</g>\n<!-- 139832234211648&#45;&gt;139832234001072 -->\n<g id=\"edge6\" class=\"edge\">\n<title>139832234211648&#45;&gt;139832234001072</title>\n<path fill=\"none\" stroke=\"#000000\" d=\"M274.1641,-178.4133C281.9758,-165.6305 292.3737,-148.6157 301.0262,-134.4571\"/>\n<polygon fill=\"#000000\" stroke=\"#000000\" points=\"304.1874,-135.9963 306.4154,-125.6384 298.2144,-132.3461 304.1874,-135.9963\"/>\n<text text-anchor=\"middle\" x=\"309\" y=\"-148.8\" font-family=\"Helvetica,sans-Serif\" font-size=\"14.00\" fill=\"#000000\">x3≥1</text>\n</g>\n<!-- 139832234432688 -->\n<g id=\"node5\" class=\"node\">\n<title>139832234432688</title>\n<polygon fill=\"none\" stroke=\"#000000\" points=\"60.5,-.5 60.5,-36.5 144.5,-36.5 144.5,-.5 60.5,-.5\"/>\n<text text-anchor=\"middle\" x=\"102.5\" y=\"-14.8\" font-family=\"Helvetica,sans-Serif\" font-size=\"14.00\" fill=\"#000000\">No solution</text>\n</g>\n<!-- 139833136647424&#45;&gt;139832234432688 -->\n<g id=\"edge4\" class=\"edge\">\n<title>139833136647424&#45;&gt;139832234432688</title>\n<path fill=\"none\" stroke=\"#000000\" d=\"M142.4338,-88.1883C135.2929,-75.7268 125.9003,-59.3359 118.0185,-45.5813\"/>\n<polygon fill=\"#000000\" stroke=\"#000000\" points=\"120.8581,-43.497 112.8494,-36.5607 114.7846,-46.9774 120.8581,-43.497\"/>\n<text text-anchor=\"middle\" x=\"147\" y=\"-58.8\" font-family=\"Helvetica,sans-Serif\" font-size=\"14.00\" fill=\"#000000\">x6≤0</text>\n</g>\n<!-- 139832234000496 -->\n<g id=\"node6\" class=\"node\">\n<title>139832234000496</title>\n<polygon fill=\"none\" stroke=\"#000000\" points=\"162.5,-.5 162.5,-36.5 246.5,-36.5 246.5,-.5 162.5,-.5\"/>\n<text text-anchor=\"middle\" x=\"204.5\" y=\"-14.8\" font-family=\"Helvetica,sans-Serif\" font-size=\"14.00\" fill=\"#000000\">No solution</text>\n</g>\n<!-- 139833136647424&#45;&gt;139832234000496 -->\n<g id=\"edge5\" class=\"edge\">\n<title>139833136647424&#45;&gt;139832234000496</title>\n<path fill=\"none\" stroke=\"#000000\" d=\"M164.5662,-88.1883C171.7071,-75.7268 181.0997,-59.3359 188.9815,-45.5813\"/>\n<polygon fill=\"#000000\" stroke=\"#000000\" points=\"192.2154,-46.9774 194.1506,-36.5607 186.1419,-43.497 192.2154,-46.9774\"/>\n<text text-anchor=\"middle\" x=\"200\" y=\"-58.8\" font-family=\"Helvetica,sans-Serif\" font-size=\"14.00\" fill=\"#000000\">x6≥1</text>\n</g>\n</g>\n</svg>\n",
      "text/plain": [
       "<graphviz.graphs.Digraph at 0x7f2d3aa5fb80>"
      ]
     },
     "execution_count": 4,
     "metadata": {},
     "output_type": "execute_result"
    }
   ],
   "source": [
    "tree = BranchAndBound.resolve(source >> max)\n",
    "\n",
    "\n",
    "display_markdown(\n",
    "    \"### Графическая визуализация решения при помощи метода ветвей и границ:\",\n",
    "    raw=True\n",
    ")\n",
    "\n",
    "tree.visualize(\n",
    "    node_attr={\"shape\": \"record\", \"fontname\": \"helvetica\"},\n",
    "    graph_attr={},\n",
    "    edge_attr={\"fontname\": \"helvetica\"},\n",
    ")"
   ]
  },
  {
   "cell_type": "code",
   "execution_count": 5,
   "metadata": {},
   "outputs": [
    {
     "data": {
      "text/markdown": [
       "#### Исходная таблица"
      ]
     },
     "metadata": {},
     "output_type": "display_data"
    },
    {
     "data": {
      "text/markdown": [
       "|       |   $s_0$ |   $x_1$ |   $x_2$ |   $x_3$ |\n",
       "|:------|--------:|--------:|--------:|--------:|\n",
       "| $x_4$ |       6 |       2 |     1   |       2 |\n",
       "| $x_5$ |       6 |       1 |     2   |       0 |\n",
       "| $x_6$ |       2 |       0 |     0.5 |       1 |\n",
       "| $F$   |      -0 |      -2 |    -5   |      -3 |"
      ]
     },
     "metadata": {},
     "output_type": "display_data"
    },
    {
     "data": {
      "text/markdown": [
       "#### Конечная таблица"
      ]
     },
     "metadata": {},
     "output_type": "display_data"
    },
    {
     "data": {
      "text/markdown": [
       "|       |   $s_0$ |   $x_4$ |   $x_5$ |   $x_6$ |\n",
       "|:------|--------:|--------:|--------:|--------:|\n",
       "| $x_1$ |    1    |    0.5  |    0    |   -1    |\n",
       "| $x_2$ |    2.5  |   -0.25 |    0.5  |    0.5  |\n",
       "| $x_3$ |    0.75 |    0.12 |   -0.25 |    0.75 |\n",
       "| $F$   |   16.75 |    0.12 |    1.75 |    2.75 |"
      ]
     },
     "metadata": {},
     "output_type": "display_data"
    },
    {
     "data": {
      "text/markdown": [
       "$x_1 = 1, x_2 = 2.5, x_3 = 0.75$, $x_4 = x_5 = x_6 = 0$"
      ]
     },
     "metadata": {},
     "output_type": "display_data"
    },
    {
     "data": {
      "text/markdown": [
       "### Ветвление влево по $x_2≤2$"
      ]
     },
     "metadata": {},
     "output_type": "display_data"
    },
    {
     "data": {
      "text/markdown": [
       "#### Исходная таблица"
      ]
     },
     "metadata": {},
     "output_type": "display_data"
    },
    {
     "data": {
      "text/markdown": [
       "|       |   $s_0$ |   $x_1$ |   $x_2$ |   $x_3$ |\n",
       "|:------|--------:|--------:|--------:|--------:|\n",
       "| $x_4$ |       6 |       2 |     1   |       2 |\n",
       "| $x_5$ |       6 |       1 |     2   |       0 |\n",
       "| $x_6$ |       2 |       0 |     0.5 |       1 |\n",
       "| $x_7$ |       2 |       0 |     1   |       0 |\n",
       "| $F$   |      -0 |      -2 |    -5   |      -3 |"
      ]
     },
     "metadata": {},
     "output_type": "display_data"
    },
    {
     "data": {
      "text/markdown": [
       "#### Конечная таблица"
      ]
     },
     "metadata": {},
     "output_type": "display_data"
    },
    {
     "data": {
      "text/markdown": [
       "|       |   $s_0$ |   $x_4$ |   $x_7$ |   $x_6$ |\n",
       "|:------|--------:|--------:|--------:|--------:|\n",
       "| $x_1$ |       1 |     0.5 |     0   |      -1 |\n",
       "| $x_5$ |       1 |    -0.5 |    -2   |       1 |\n",
       "| $x_3$ |       1 |    -0   |    -0.5 |       1 |\n",
       "| $x_2$ |       2 |    -0   |     1   |       0 |\n",
       "| $F$   |      15 |     1   |     3.5 |       1 |"
      ]
     },
     "metadata": {},
     "output_type": "display_data"
    },
    {
     "data": {
      "text/markdown": [
       "$x_1 = 1, x_5 = 1, x_3 = 1, x_2 = 2$, $x_4 = x_5 = x_6 = 0$"
      ]
     },
     "metadata": {},
     "output_type": "display_data"
    },
    {
     "data": {
      "text/markdown": [
       "### Заканчиваем ветвление:"
      ]
     },
     "metadata": {},
     "output_type": "display_data"
    },
    {
     "data": {
      "text/markdown": [
       "$F=15, x_1=1, x_5=1, x_3=1, x_2=2$"
      ]
     },
     "metadata": {},
     "output_type": "display_data"
    },
    {
     "data": {
      "text/markdown": [
       "### Ветвление вправо по $x_2≥3$"
      ]
     },
     "metadata": {},
     "output_type": "display_data"
    },
    {
     "data": {
      "text/markdown": [
       "#### Исходная таблица"
      ]
     },
     "metadata": {},
     "output_type": "display_data"
    },
    {
     "data": {
      "text/markdown": [
       "|       |   $s_0$ |   $x_1$ |   $x_2$ |   $x_3$ |\n",
       "|:------|--------:|--------:|--------:|--------:|\n",
       "| $x_4$ |       6 |       2 |     1   |       2 |\n",
       "| $x_5$ |       6 |       1 |     2   |       0 |\n",
       "| $x_6$ |       2 |       0 |     0.5 |       1 |\n",
       "| $x_7$ |      -3 |      -0 |    -1   |      -0 |\n",
       "| $F$   |      -0 |      -2 |    -5   |      -3 |"
      ]
     },
     "metadata": {},
     "output_type": "display_data"
    },
    {
     "data": {
      "text/markdown": [
       "#### Конечная таблица"
      ]
     },
     "metadata": {},
     "output_type": "display_data"
    },
    {
     "data": {
      "text/markdown": [
       "|       |   $s_0$ |   $x_7$ |   $x_5$ |   $x_6$ |\n",
       "|:------|--------:|--------:|--------:|--------:|\n",
       "| $x_4$ |     2   |    -4   |      -2 |      -2 |\n",
       "| $x_2$ |     3   |    -1   |       0 |       0 |\n",
       "| $x_3$ |     0.5 |     0.5 |       0 |       1 |\n",
       "| $x_1$ |     0   |     2   |       1 |      -0 |\n",
       "| $F$   |    16.5 |     0.5 |       2 |       3 |"
      ]
     },
     "metadata": {},
     "output_type": "display_data"
    },
    {
     "data": {
      "text/markdown": [
       "$x_4 = 2, x_2 = 3, x_3 = 0.5, x_1 = 0$, $x_4 = x_5 = x_6 = 0$"
      ]
     },
     "metadata": {},
     "output_type": "display_data"
    },
    {
     "data": {
      "text/markdown": [
       "### Ветвление влево по $x_3≤0$"
      ]
     },
     "metadata": {},
     "output_type": "display_data"
    },
    {
     "data": {
      "text/markdown": [
       "#### Исходная таблица"
      ]
     },
     "metadata": {},
     "output_type": "display_data"
    },
    {
     "data": {
      "text/markdown": [
       "|       |   $s_0$ |   $x_1$ |   $x_2$ |   $x_3$ |\n",
       "|:------|--------:|--------:|--------:|--------:|\n",
       "| $x_4$ |       6 |       2 |     1   |       2 |\n",
       "| $x_5$ |       6 |       1 |     2   |       0 |\n",
       "| $x_6$ |       2 |       0 |     0.5 |       1 |\n",
       "| $x_7$ |      -3 |      -0 |    -1   |      -0 |\n",
       "| $x_8$ |       0 |       0 |     0   |       1 |\n",
       "| $F$   |      -0 |      -2 |    -5   |      -3 |"
      ]
     },
     "metadata": {},
     "output_type": "display_data"
    },
    {
     "data": {
      "text/markdown": [
       "#### Конечная таблица"
      ]
     },
     "metadata": {},
     "output_type": "display_data"
    },
    {
     "data": {
      "text/markdown": [
       "|       |   $s_0$ |   $x_1$ |   $x_5$ |   $x_8$ |\n",
       "|:------|--------:|--------:|--------:|--------:|\n",
       "| $x_4$ |     3   |    1.5  |   -0.5  |      -2 |\n",
       "| $x_2$ |     3   |    0.5  |    0.5  |      -0 |\n",
       "| $x_6$ |     0.5 |   -0.25 |   -0.25 |      -1 |\n",
       "| $x_7$ |     0   |    0.5  |    0.5  |      -0 |\n",
       "| $x_3$ |     0   |    0    |   -0    |       1 |\n",
       "| $F$   |    15   |    0.5  |    2.5  |       3 |"
      ]
     },
     "metadata": {},
     "output_type": "display_data"
    },
    {
     "data": {
      "text/markdown": [
       "$x_4 = 3, x_2 = 3, x_6 = 0.5, x_7 = 0, x_3 = 0$, $x_4 = x_5 = x_6 = 0$"
      ]
     },
     "metadata": {},
     "output_type": "display_data"
    },
    {
     "data": {
      "text/markdown": [
       "### Ветвление влево по $x_6≤0$"
      ]
     },
     "metadata": {},
     "output_type": "display_data"
    },
    {
     "data": {
      "text/markdown": [
       "#### Исходная таблица"
      ]
     },
     "metadata": {},
     "output_type": "display_data"
    },
    {
     "data": {
      "text/markdown": [
       "|       |   $s_0$ |   $x_1$ |   $x_2$ |   $x_3$ |\n",
       "|:------|--------:|--------:|--------:|--------:|\n",
       "| $x_4$ |       6 |       2 |     1   |       2 |\n",
       "| $x_5$ |       6 |       1 |     2   |       0 |\n",
       "| $x_6$ |       2 |       0 |     0.5 |       1 |\n",
       "| $x_7$ |      -3 |      -0 |    -1   |      -0 |\n",
       "| $x_8$ |       0 |       0 |     0   |       1 |\n",
       "| $x_9$ |       0 |       0 |     0   |       1 |\n",
       "| $F$   |      -0 |      -2 |    -5   |      -3 |"
      ]
     },
     "metadata": {},
     "output_type": "display_data"
    },
    {
     "data": {
      "text/markdown": [
       "#### Конечная таблица"
      ]
     },
     "metadata": {},
     "output_type": "display_data"
    },
    {
     "data": {
      "text/markdown": [
       "|       |   $s_0$ |   $x_1$ |   $x_5$ |   $x_8$ |\n",
       "|:------|--------:|--------:|--------:|--------:|\n",
       "| $x_4$ |     3   |    1.5  |   -0.5  |      -2 |\n",
       "| $x_2$ |     3   |    0.5  |    0.5  |      -0 |\n",
       "| $x_6$ |     0.5 |   -0.25 |   -0.25 |      -1 |\n",
       "| $x_7$ |     0   |    0.5  |    0.5  |      -0 |\n",
       "| $x_3$ |     0   |    0    |   -0    |       1 |\n",
       "| $x_9$ |     0   |    0    |    0    |      -1 |\n",
       "| $F$   |    15   |    0.5  |    2.5  |       3 |"
      ]
     },
     "metadata": {},
     "output_type": "display_data"
    },
    {
     "data": {
      "text/markdown": [
       "$x_4 = 3, x_2 = 3, x_6 = 0.5, x_7 = 0, x_3 = 0, x_9 = 0$, $x_4 = x_5 = x_6 = 0$"
      ]
     },
     "metadata": {},
     "output_type": "display_data"
    },
    {
     "data": {
      "text/markdown": [
       "### Заканчиваем ветвление:"
      ]
     },
     "metadata": {},
     "output_type": "display_data"
    },
    {
     "data": {
      "text/markdown": [
       "No solution"
      ]
     },
     "metadata": {},
     "output_type": "display_data"
    },
    {
     "data": {
      "text/markdown": [
       "### Ветвление вправо по $x_6≥1$"
      ]
     },
     "metadata": {},
     "output_type": "display_data"
    },
    {
     "data": {
      "text/markdown": [
       "#### Исходная таблица"
      ]
     },
     "metadata": {},
     "output_type": "display_data"
    },
    {
     "data": {
      "text/markdown": [
       "|       |   $s_0$ |   $x_1$ |   $x_2$ |   $x_3$ |\n",
       "|:------|--------:|--------:|--------:|--------:|\n",
       "| $x_4$ |       6 |       2 |     1   |       2 |\n",
       "| $x_5$ |       6 |       1 |     2   |       0 |\n",
       "| $x_6$ |       2 |       0 |     0.5 |       1 |\n",
       "| $x_7$ |      -3 |      -0 |    -1   |      -0 |\n",
       "| $x_8$ |       0 |       0 |     0   |       1 |\n",
       "| $x_9$ |      -1 |      -0 |    -0   |      -1 |\n",
       "| $F$   |      -0 |      -2 |    -5   |      -3 |"
      ]
     },
     "metadata": {},
     "output_type": "display_data"
    },
    {
     "data": {
      "text/markdown": [
       "#### Конечная таблица"
      ]
     },
     "metadata": {},
     "output_type": "display_data"
    },
    {
     "data": {
      "text/markdown": [
       "|       |   $s_0$ |   $x_1$ |   $x_5$ |   $x_8$ |\n",
       "|:------|--------:|--------:|--------:|--------:|\n",
       "| $x_4$ |     3   |    1.5  |   -0.5  |      -2 |\n",
       "| $x_2$ |     3   |    0.5  |    0.5  |      -0 |\n",
       "| $x_6$ |     0.5 |   -0.25 |   -0.25 |      -1 |\n",
       "| $x_7$ |     0   |    0.5  |    0.5  |      -0 |\n",
       "| $x_3$ |     0   |    0    |   -0    |       1 |\n",
       "| $x_9$ |    -1   |    0    |    0    |       1 |\n",
       "| $F$   |    15   |    0.5  |    2.5  |       3 |"
      ]
     },
     "metadata": {},
     "output_type": "display_data"
    },
    {
     "data": {
      "text/markdown": [
       "Нет решений"
      ]
     },
     "metadata": {},
     "output_type": "display_data"
    },
    {
     "data": {
      "text/markdown": [
       "### Заканчиваем ветвление:"
      ]
     },
     "metadata": {},
     "output_type": "display_data"
    },
    {
     "data": {
      "text/markdown": [
       "No solution"
      ]
     },
     "metadata": {},
     "output_type": "display_data"
    },
    {
     "data": {
      "text/markdown": [
       "### Ветвление вправо по $x_3≥1$"
      ]
     },
     "metadata": {},
     "output_type": "display_data"
    },
    {
     "data": {
      "text/markdown": [
       "#### Исходная таблица"
      ]
     },
     "metadata": {},
     "output_type": "display_data"
    },
    {
     "data": {
      "text/markdown": [
       "|       |   $s_0$ |   $x_1$ |   $x_2$ |   $x_3$ |\n",
       "|:------|--------:|--------:|--------:|--------:|\n",
       "| $x_4$ |       6 |       2 |     1   |       2 |\n",
       "| $x_5$ |       6 |       1 |     2   |       0 |\n",
       "| $x_6$ |       2 |       0 |     0.5 |       1 |\n",
       "| $x_7$ |      -3 |      -0 |    -1   |      -0 |\n",
       "| $x_8$ |      -1 |      -0 |    -0   |      -1 |\n",
       "| $F$   |      -0 |      -2 |    -5   |      -3 |"
      ]
     },
     "metadata": {},
     "output_type": "display_data"
    },
    {
     "data": {
      "text/markdown": [
       "#### Конечная таблица"
      ]
     },
     "metadata": {},
     "output_type": "display_data"
    },
    {
     "data": {
      "text/markdown": [
       "|       |   $s_0$ |   $x_7$ |   $x_5$ |   $x_6$ |\n",
       "|:------|--------:|--------:|--------:|--------:|\n",
       "| $x_4$ |     2   |    -4   |      -2 |      -2 |\n",
       "| $x_2$ |     3   |    -1   |       0 |       0 |\n",
       "| $x_3$ |     0.5 |     0.5 |       0 |       1 |\n",
       "| $x_1$ |     0   |     2   |       1 |      -0 |\n",
       "| $x_8$ |    -0.5 |     0.5 |       0 |       1 |\n",
       "| $F$   |    16.5 |     0.5 |       2 |       3 |"
      ]
     },
     "metadata": {},
     "output_type": "display_data"
    },
    {
     "data": {
      "text/markdown": [
       "Нет решений"
      ]
     },
     "metadata": {},
     "output_type": "display_data"
    },
    {
     "data": {
      "text/markdown": [
       "### Заканчиваем ветвление:"
      ]
     },
     "metadata": {},
     "output_type": "display_data"
    },
    {
     "data": {
      "text/markdown": [
       "No solution"
      ]
     },
     "metadata": {},
     "output_type": "display_data"
    }
   ],
   "source": [
    "def expose_node(node):\n",
    "    result = node.data\n",
    "\n",
    "    display_markdown(\n",
    "        f\"#### Исходная таблица\",\n",
    "        Format(result.source).table(),\n",
    "        f\"#### Конечная таблица\",\n",
    "        Format(result.history[-1]).table(),\n",
    "        f\"{Format(result.history[-1]).base_vars()}, {Format(table).free_vars()}\" if result.solved else \"Нет решений\",\n",
    "        raw=True,\n",
    "    )\n",
    "    \n",
    "    if node.left:\n",
    "        display_markdown(\n",
    "            f\"### Ветвление влево по {node.left.label(pretty=True)}\",\n",
    "            raw=True,\n",
    "        )\n",
    "\n",
    "        expose_node(node.left.target)\n",
    "    \n",
    "    if node.right:\n",
    "        display_markdown(\n",
    "            f\"### Ветвление вправо по {node.right.label(pretty=True)}\",\n",
    "            raw=True,\n",
    "        )\n",
    "\n",
    "        expose_node(node.right.target)\n",
    "    \n",
    "    if not node.left and not node.right:\n",
    "        display_markdown(\n",
    "            f\"### Заканчиваем ветвление:\",\n",
    "            node.label(pretty=True),\n",
    "            raw=True,\n",
    "        )\n",
    "\n",
    "expose_node(tree)"
   ]
  },
  {
   "cell_type": "code",
   "execution_count": 6,
   "metadata": {},
   "outputs": [
    {
     "data": {
      "text/markdown": [
       "### Целочисленные решения:"
      ]
     },
     "metadata": {},
     "output_type": "display_data"
    },
    {
     "data": {
      "text/markdown": [
       "$F=15$, $x_1 = 1, x_2 = 2, x_3 = 1$"
      ]
     },
     "metadata": {},
     "output_type": "display_data"
    }
   ],
   "source": [
    "solutions = [node.data.result for node in tree.leaves if not node.invalid]\n",
    "\n",
    "display_markdown(\n",
    "    \"### Целочисленные решения:\",\n",
    "    *[\n",
    "        ', '.join([\n",
    "            f\"$F={pretty_value(table.result, 2)}$\",\n",
    "            Format(table).solution(),\n",
    "        ])\n",
    "        for table in solutions\n",
    "    ],\n",
    "    raw=True, \n",
    ")\n"
   ]
  }
 ],
 "metadata": {
  "interpreter": {
   "hash": "6763cea5d18f2cb3d876784998434d30e55a7875f1ad3d414d7ab11b37cb9e00"
  },
  "kernelspec": {
   "display_name": "Python 3.9.7 64-bit ('dt-lab-03-iIiuCh_T': pipenv)",
   "language": "python",
   "name": "python3"
  },
  "language_info": {
   "codemirror_mode": {
    "name": "ipython",
    "version": 3
   },
   "file_extension": ".py",
   "mimetype": "text/x-python",
   "name": "python",
   "nbconvert_exporter": "python",
   "pygments_lexer": "ipython3",
   "version": "3.9.9"
  },
  "orig_nbformat": 4
 },
 "nbformat": 4,
 "nbformat_minor": 2
}
