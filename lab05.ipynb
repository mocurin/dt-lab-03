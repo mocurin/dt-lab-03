{
 "cells": [
  {
   "cell_type": "markdown",
   "metadata": {},
   "source": [
    "## Цель работы\n",
    "\n",
    "&nbsp;&nbsp;&nbsp;&nbsp;Изучить постановку антагонистической игры двух лиц в нормальной форме; найти решение игры за обоих игроков в смешанных стратегиях (стратегическую седловую точку)."
   ]
  },
  {
   "cell_type": "markdown",
   "metadata": {},
   "source": [
    "## Поставновка задачи\n",
    "\n",
    "&nbsp;&nbsp;&nbsp;&nbsp;Для игры, заданной матрицей стратегий $c_{ij}$, требуется найти оптимальные смешанные стратегии обоих игроков, сведя матричную игру к задаче ЛП (прямой для одного игрока и двойственной для другого).\n",
    "\n",
    "&nbsp;&nbsp;&nbsp;&nbsp;Задачи ЛП следует решать симплекс-методом, приводя начальные, промежуточные и конечные симплекс-таблицы. По окончании алгоритма полученные решения необходимо проверить на допустимость\n"
   ]
  },
  {
   "cell_type": "markdown",
   "metadata": {},
   "source": [
    "## Ход работы"
   ]
  },
  {
   "cell_type": "code",
   "execution_count": 1,
   "metadata": {},
   "outputs": [
    {
     "data": {
      "text/markdown": [
       "&nbsp;&nbsp;&nbsp;&nbsp;Исходные данные согласно варианту:"
      ]
     },
     "metadata": {},
     "output_type": "display_data"
    },
    {
     "data": {
      "text/markdown": [
       "$A = \\begin{bmatrix}\n",
       "4 & 4 & 0 & 6 & 12\\\\\n",
       "1 & 14 & 14 & 13 & 11\\\\\n",
       "17 & 6 & 14 & 4 & 3\\\\\n",
       "18 & 16 & 13 & 15 & 16\n",
       "\\end{bmatrix}$"
      ]
     },
     "metadata": {},
     "output_type": "display_data"
    }
   ],
   "source": [
    "import numpy as np\n",
    "\n",
    "from src.game import StrategyMatrix, optimal\n",
    "from simplexlib.src.table import Table, Simplex, Format, pretty_value\n",
    "from simplexlib.src.latex import matrix_to_latex\n",
    "from IPython.display import display_markdown\n",
    "\n",
    "\n",
    "matrix = StrategyMatrix(\n",
    "    [\n",
    "        [4, 4, 0, 6, 12],\n",
    "        [1, 14, 14, 13, 11],\n",
    "        [17, 6, 14, 4, 3],\n",
    "        [18, 16, 13, 15, 16],\n",
    "    ]\n",
    ")\n",
    "\n",
    "display_markdown(\n",
    "    \"&nbsp;&nbsp;&nbsp;&nbsp;Исходные данные согласно варианту:\",\n",
    "    matrix_to_latex(np.array(matrix.data, dtype=np.float64), \"A\", brackets=\"b\"),\n",
    "    raw=True\n",
    ")"
   ]
  },
  {
   "cell_type": "code",
   "execution_count": 2,
   "metadata": {
    "scrolled": false
   },
   "outputs": [
    {
     "data": {
      "text/markdown": [
       "&nbsp;&nbsp;&nbsp;&nbsp;Найдем смешанные стратегии для игрока А. Сформулируем задачу для решения симплекс-методом:"
      ]
     },
     "metadata": {},
     "output_type": "display_data"
    },
    {
     "data": {
      "text/markdown": [
       "$W = v_1+v_2+v_3+v_4 \\rightarrow min$"
      ]
     },
     "metadata": {},
     "output_type": "display_data"
    },
    {
     "data": {
      "text/markdown": [
       "$\\begin{cases}4v_1+v_2+17v_3+18v_4+v_5 = 1\\\\\n",
       "4v_1+14v_2+6v_3+16v_4+v_6 = 1\\\\\n",
       "14v_2+14v_3+13v_4+v_7 = 1\\\\\n",
       "6v_1+13v_2+4v_3+15v_4+v_8 = 1\\\\\n",
       "12v_1+11v_2+3v_3+16v_4+v_9 = 1\n",
       "\\end{cases}$"
      ]
     },
     "metadata": {},
     "output_type": "display_data"
    },
    {
     "data": {
      "text/markdown": [
       "$v_0, v_1, v_2, v_3, v_4, v_5, v_6, v_7, v_8 ≥ 0$"
      ]
     },
     "metadata": {},
     "output_type": "display_data"
    },
    {
     "data": {
      "text/markdown": [
       "&nbsp;&nbsp;&nbsp;&nbsp;Исходная simplex-таблица:"
      ]
     },
     "metadata": {},
     "output_type": "display_data"
    },
    {
     "data": {
      "text/markdown": [
       "|       |   $s_0$ |   $v_1$ |   $v_2$ |   $v_3$ |   $v_4$ |\n",
       "|:------|--------:|--------:|--------:|--------:|--------:|\n",
       "| $v_5$ |       1 |       4 |       1 |      17 |      18 |\n",
       "| $v_6$ |       1 |       4 |      14 |       6 |      16 |\n",
       "| $v_7$ |       1 |       0 |      14 |      14 |      13 |\n",
       "| $v_8$ |       1 |       6 |      13 |       4 |      15 |\n",
       "| $v_9$ |       1 |      12 |      11 |       3 |      16 |\n",
       "| $W$   |      -0 |       1 |       1 |       1 |       1 |"
      ]
     },
     "metadata": {},
     "output_type": "display_data"
    },
    {
     "data": {
      "text/markdown": [
       "&nbsp;&nbsp;&nbsp;&nbsp;Позиция опорной точки: (0, 4)"
      ]
     },
     "metadata": {},
     "output_type": "display_data"
    },
    {
     "data": {
      "text/markdown": [
       "|       |   $s_0$ |   $v_1$ |   $v_2$ |   $v_3$ |   $v_5$ |\n",
       "|:------|--------:|--------:|--------:|--------:|--------:|\n",
       "| $v_4$ |   0.056 |   0.222 |   0.056 |   0.944 |  -0.056 |\n",
       "| $v_6$ |  -0.111 |  -0.444 | -13.111 |   9.111 |  -0.889 |\n",
       "| $v_7$ |  -0.278 |   2.889 | -13.278 |  -1.722 |  -0.722 |\n",
       "| $v_8$ |  -0.167 |  -2.667 | -12.167 |  10.167 |  -0.833 |\n",
       "| $v_9$ |  -0.111 |  -8.444 | -10.111 |  12.111 |  -0.889 |\n",
       "| $W$   |   0.056 |  -0.778 |  -0.944 |  -0.056 |  -0.056 |"
      ]
     },
     "metadata": {},
     "output_type": "display_data"
    },
    {
     "data": {
      "text/markdown": [
       "&nbsp;&nbsp;&nbsp;&nbsp;Позиция опорной точки: (1, 2)"
      ]
     },
     "metadata": {},
     "output_type": "display_data"
    },
    {
     "data": {
      "text/markdown": [
       "|       |   $s_0$ |   $v_1$ |   $v_6$ |   $v_3$ |   $v_5$ |\n",
       "|:------|--------:|--------:|--------:|--------:|--------:|\n",
       "| $v_4$ |   0.055 |   0.22  |   0.004 |   0.983 |  -0.059 |\n",
       "| $v_2$ |   0.008 |   0.034 |  -0.076 |  -0.695 |   0.068 |\n",
       "| $v_7$ |  -0.165 |   3.339 |  -1.013 | -10.949 |   0.178 |\n",
       "| $v_8$ |  -0.064 |  -2.254 |  -0.928 |   1.712 |  -0.008 |\n",
       "| $v_9$ |  -0.025 |  -8.102 |  -0.771 |   5.085 |  -0.203 |\n",
       "| $W$   |   0.064 |  -0.746 |  -0.072 |  -0.712 |   0.008 |"
      ]
     },
     "metadata": {},
     "output_type": "display_data"
    },
    {
     "data": {
      "text/markdown": [
       "&nbsp;&nbsp;&nbsp;&nbsp;Позиция опорной точки: (2, 3)"
      ]
     },
     "metadata": {},
     "output_type": "display_data"
    },
    {
     "data": {
      "text/markdown": [
       "|       |   $s_0$ |   $v_1$ |   $v_6$ |   $v_7$ |   $v_5$ |\n",
       "|:------|--------:|--------:|--------:|--------:|--------:|\n",
       "| $v_4$ |   0.04  |   0.52  |  -0.087 |   0.09  |  -0.043 |\n",
       "| $v_2$ |   0.019 |  -0.178 |  -0.012 |  -0.063 |   0.057 |\n",
       "| $v_3$ |   0.015 |  -0.305 |   0.092 |  -0.091 |  -0.016 |\n",
       "| $v_8$ |  -0.089 |  -1.732 |  -1.086 |   0.156 |   0.019 |\n",
       "| $v_9$ |  -0.102 |  -6.551 |  -1.241 |   0.464 |  -0.121 |\n",
       "| $W$   |   0.074 |  -0.963 |  -0.006 |  -0.065 |  -0.003 |"
      ]
     },
     "metadata": {},
     "output_type": "display_data"
    },
    {
     "data": {
      "text/markdown": [
       "&nbsp;&nbsp;&nbsp;&nbsp;Позиция опорной точки: (4, 1)"
      ]
     },
     "metadata": {},
     "output_type": "display_data"
    },
    {
     "data": {
      "text/markdown": [
       "|       |   $s_0$ |   $v_9$ |   $v_6$ |   $v_7$ |   $v_5$ |\n",
       "|:------|--------:|--------:|--------:|--------:|--------:|\n",
       "| $v_4$ |   0.032 |   0.079 |  -0.185 |   0.127 |  -0.053 |\n",
       "| $v_2$ |   0.022 |  -0.027 |   0.022 |  -0.076 |   0.06  |\n",
       "| $v_3$ |   0.02  |  -0.047 |   0.15  |  -0.113 |  -0.011 |\n",
       "| $v_8$ |  -0.062 |  -0.264 |  -0.758 |   0.034 |   0.051 |\n",
       "| $v_1$ |   0.016 |  -0.153 |   0.19  |  -0.071 |   0.018 |\n",
       "| $W$   |   0.089 |  -0.147 |   0.176 |  -0.133 |   0.015 |"
      ]
     },
     "metadata": {},
     "output_type": "display_data"
    },
    {
     "data": {
      "text/markdown": [
       "&nbsp;&nbsp;&nbsp;&nbsp;Позиция опорной точки: (3, 2)"
      ]
     },
     "metadata": {},
     "output_type": "display_data"
    },
    {
     "data": {
      "text/markdown": [
       "|       |   $s_0$ |   $v_9$ |   $v_8$ |   $v_7$ |   $v_5$ |\n",
       "|:------|--------:|--------:|--------:|--------:|--------:|\n",
       "| $v_4$ |   0.047 |   0.144 |  -0.244 |   0.118 |  -0.065 |\n",
       "| $v_2$ |   0.02  |  -0.035 |   0.029 |  -0.075 |   0.061 |\n",
       "| $v_3$ |   0.007 |  -0.099 |   0.198 |  -0.106 |  -0     |\n",
       "| $v_6$ |   0.082 |   0.349 |  -1.319 |  -0.044 |  -0.068 |\n",
       "| $v_1$ |   0     |  -0.219 |   0.25  |  -0.062 |   0.031 |\n",
       "| $W$   |   0.075 |  -0.208 |   0.233 |  -0.125 |   0.027 |"
      ]
     },
     "metadata": {},
     "output_type": "display_data"
    },
    {
     "data": {
      "text/markdown": [
       "&nbsp;&nbsp;&nbsp;&nbsp;Позиция опорной точки: (4, 2)"
      ]
     },
     "metadata": {},
     "output_type": "display_data"
    },
    {
     "data": {
      "text/markdown": [
       "|       |   $s_0$ |   $v_9$ |   $v_1$ |   $v_7$ |   $v_5$ |\n",
       "|:------|--------:|--------:|--------:|--------:|--------:|\n",
       "| $v_4$ |   0.047 |  -0.07  |   0.978 |   0.057 |  -0.035 |\n",
       "| $v_2$ |   0.02  |  -0.01  |  -0.115 |  -0.068 |   0.058 |\n",
       "| $v_3$ |   0.007 |   0.075 |  -0.793 |  -0.057 |  -0.025 |\n",
       "| $v_6$ |   0.082 |  -0.805 |   5.277 |  -0.374 |   0.097 |\n",
       "| $v_8$ |   0     |  -0.875 |   4     |  -0.25  |   0.125 |\n",
       "| $W$   |   0.075 |  -0.005 |  -0.93  |  -0.067 |  -0.002 |"
      ]
     },
     "metadata": {},
     "output_type": "display_data"
    },
    {
     "data": {
      "text/markdown": [
       "&nbsp;&nbsp;&nbsp;&nbsp;Проверка решения:"
      ]
     },
     "metadata": {},
     "output_type": "display_data"
    },
    {
     "data": {
      "text/markdown": [
       "$W = -0.075 = 0v_1+0.02v_2+0.007v_3+0.047v_4 = 0\\cdot(-1)+0.02\\cdot(-1)+0.007\\cdot(-1)+0.047\\cdot(-1) = 0-0.02-0.007-0.047 = -0.075$"
      ]
     },
     "metadata": {},
     "output_type": "display_data"
    },
    {
     "data": {
      "text/markdown": [
       "&nbsp;&nbsp;&nbsp;&nbsp;Смешанная стратегия игрока А:"
      ]
     },
     "metadata": {},
     "output_type": "display_data"
    },
    {
     "data": {
      "text/markdown": [
       "$g=13.367$"
      ]
     },
     "metadata": {},
     "output_type": "display_data"
    },
    {
     "data": {
      "text/markdown": [
       "$Y=[0, 0.267, 0.1, 0.633]$"
      ]
     },
     "metadata": {},
     "output_type": "display_data"
    },
    {
     "data": {
      "text/markdown": [
       "&nbsp;&nbsp;&nbsp;&nbsp;Проверка корректности решения:"
      ]
     },
     "metadata": {},
     "output_type": "display_data"
    },
    {
     "data": {
      "text/markdown": [
       "$0+0.267+0.1+0.633 = 1$"
      ]
     },
     "metadata": {},
     "output_type": "display_data"
    }
   ],
   "source": [
    "source = matrix.inverse()\n",
    "\n",
    "fmt = {\n",
    "    \"default_var_sym\": \"v\",\n",
    "    \"default_tgt_sym\": \"W\",\n",
    "    \"default_precision\": 3,\n",
    "}\n",
    "\n",
    "source.data *= -1\n",
    "\n",
    "display_markdown(\n",
    "    \"&nbsp;&nbsp;&nbsp;&nbsp;Найдем смешанные стратегии для игрока А. Сформулируем задачу для решения симплекс-методом:\",\n",
    "    Format(source, **fmt).target(),\n",
    "    Format(source, **fmt).system(),\n",
    "    Format(source, **fmt).var_zero_constraint(),\n",
    "    \"&nbsp;&nbsp;&nbsp;&nbsp;Исходная simplex-таблица:\",\n",
    "    Format(source, **fmt).table(),\n",
    "    raw=True,\n",
    ")\n",
    "\n",
    "source.data *= -1\n",
    "\n",
    "summary = Simplex.resolve(source)\n",
    "\n",
    "for table, pos in zip(summary.history, summary.solvers):\n",
    "    display_markdown(\n",
    "        f\"&nbsp;&nbsp;&nbsp;&nbsp;Позиция опорной точки: {pos}\",\n",
    "        Format(table, **fmt).table(),\n",
    "        raw=True,\n",
    "    )\n",
    "\n",
    "g, vals = optimal(table)\n",
    "\n",
    "display_markdown(\n",
    "    \"&nbsp;&nbsp;&nbsp;&nbsp;Проверка решения:\",\n",
    "    Format(table, **fmt).check(summary.source.c),\n",
    "    \"&nbsp;&nbsp;&nbsp;&nbsp;Смешанная стратегия игрока А:\",\n",
    "    f\"$g={pretty_value(g, 3)}$\",\n",
    "    f\"$Y=[{', '.join(pretty_value(val, 3) for val in vals)}]$\",\n",
    "    \"&nbsp;&nbsp;&nbsp;&nbsp;Проверка корректности решения:\",\n",
    "    f\"${'+'.join(pretty_value(val, 3) for val in vals)} = {pretty_value(np.sum(vals), 3)}$\",\n",
    "    raw=True\n",
    ")"
   ]
  },
  {
   "cell_type": "markdown",
   "metadata": {},
   "source": [
    "<p style=\"page-break-after:always;\"></p>"
   ]
  },
  {
   "cell_type": "code",
   "execution_count": 3,
   "metadata": {},
   "outputs": [
    {
     "data": {
      "text/markdown": [
       "&nbsp;&nbsp;&nbsp;&nbsp;Сформулируем задачу для нахождения оптимальной смешанной стратегии игрока B:"
      ]
     },
     "metadata": {},
     "output_type": "display_data"
    },
    {
     "data": {
      "text/markdown": [
       "$Z = v_1+v_2+v_3+v_4+v_5 \\rightarrow min$"
      ]
     },
     "metadata": {},
     "output_type": "display_data"
    },
    {
     "data": {
      "text/markdown": [
       "$\\begin{cases}4v_1+4v_2+6v_4+12v_5+v_6 = 1\\\\\n",
       "v_1+14v_2+14v_3+13v_4+11v_5+v_7 = 1\\\\\n",
       "17v_1+6v_2+14v_3+4v_4+3v_5+v_8 = 1\\\\\n",
       "18v_1+16v_2+13v_3+15v_4+16v_5+v_9 = 1\n",
       "\\end{cases}$"
      ]
     },
     "metadata": {},
     "output_type": "display_data"
    },
    {
     "data": {
      "text/markdown": [
       "$v_0, v_1, v_2, v_3, v_4, v_5, v_6, v_7, v_8 ≥ 0$"
      ]
     },
     "metadata": {},
     "output_type": "display_data"
    },
    {
     "data": {
      "text/markdown": [
       "&nbsp;&nbsp;&nbsp;&nbsp;Исходная таблица:"
      ]
     },
     "metadata": {},
     "output_type": "display_data"
    },
    {
     "data": {
      "text/markdown": [
       "|       |   $s_0$ |   $v_1$ |   $v_2$ |   $v_3$ |   $v_4$ |   $v_5$ |\n",
       "|:------|--------:|--------:|--------:|--------:|--------:|--------:|\n",
       "| $v_6$ |       1 |       4 |       4 |       0 |       6 |      12 |\n",
       "| $v_7$ |       1 |       1 |      14 |      14 |      13 |      11 |\n",
       "| $v_8$ |       1 |      17 |       6 |      14 |       4 |       3 |\n",
       "| $v_9$ |       1 |      18 |      16 |      13 |      15 |      16 |\n",
       "| $Z$   |       0 |       1 |       1 |       1 |       1 |       1 |"
      ]
     },
     "metadata": {},
     "output_type": "display_data"
    },
    {
     "data": {
      "text/markdown": [
       "&nbsp;&nbsp;&nbsp;&nbsp;Позиция опорной точки: (3, 1)"
      ]
     },
     "metadata": {},
     "output_type": "display_data"
    },
    {
     "data": {
      "text/markdown": [
       "|       |   $s_0$ |   $v_9$ |   $v_2$ |   $v_3$ |   $v_4$ |   $v_5$ |\n",
       "|:------|--------:|--------:|--------:|--------:|--------:|--------:|\n",
       "| $v_6$ |   0.778 |  -0.222 |   0.444 |  -2.889 |   2.667 |   8.444 |\n",
       "| $v_7$ |   0.944 |  -0.056 |  13.111 |  13.278 |  12.167 |  10.111 |\n",
       "| $v_8$ |   0.056 |  -0.944 |  -9.111 |   1.722 | -10.167 | -12.111 |\n",
       "| $v_1$ |   0.056 |   0.056 |   0.889 |   0.722 |   0.833 |   0.889 |\n",
       "| $Z$   |  -0.056 |  -0.056 |   0.111 |   0.278 |   0.167 |   0.111 |"
      ]
     },
     "metadata": {},
     "output_type": "display_data"
    },
    {
     "data": {
      "text/markdown": [
       "&nbsp;&nbsp;&nbsp;&nbsp;Позиция опорной точки: (2, 3)"
      ]
     },
     "metadata": {},
     "output_type": "display_data"
    },
    {
     "data": {
      "text/markdown": [
       "|       |   $s_0$ |   $v_9$ |   $v_2$ |   $v_8$ |   $v_4$ |   $v_5$ |\n",
       "|:------|--------:|--------:|--------:|--------:|--------:|--------:|\n",
       "| $v_6$ |   0.871 |  -1.806 | -14.839 |   1.677 | -14.387 | -11.871 |\n",
       "| $v_7$ |   0.516 |   7.226 |  83.355 |  -7.71  |  90.548 | 103.484 |\n",
       "| $v_3$ |   0.032 |  -0.548 |  -5.29  |   0.581 |  -5.903 |  -7.032 |\n",
       "| $v_1$ |   0.032 |   0.452 |   4.71  |  -0.419 |   5.097 |   5.968 |\n",
       "| $Z$   |  -0.065 |   0.097 |   1.581 |  -0.161 |   1.806 |   2.065 |"
      ]
     },
     "metadata": {},
     "output_type": "display_data"
    },
    {
     "data": {
      "text/markdown": [
       "&nbsp;&nbsp;&nbsp;&nbsp;Позиция опорной точки: (1, 5)"
      ]
     },
     "metadata": {},
     "output_type": "display_data"
    },
    {
     "data": {
      "text/markdown": [
       "|       |   $s_0$ |   $v_9$ |   $v_2$ |   $v_8$ |   $v_4$ |   $v_7$ |\n",
       "|:------|--------:|--------:|--------:|--------:|--------:|--------:|\n",
       "| $v_6$ |   0.93  |  -0.978 |  -5.277 |   0.793 |  -4     |   0.115 |\n",
       "| $v_5$ |   0.005 |   0.07  |   0.805 |  -0.075 |   0.875 |   0.01  |\n",
       "| $v_3$ |   0.067 |  -0.057 |   0.374 |   0.057 |   0.25  |   0.068 |\n",
       "| $v_1$ |   0.002 |   0.035 |  -0.097 |   0.025 |  -0.125 |  -0.058 |\n",
       "| $Z$   |  -0.075 |  -0.047 |  -0.082 |  -0.007 |   0     |  -0.02  |"
      ]
     },
     "metadata": {},
     "output_type": "display_data"
    },
    {
     "data": {
      "text/markdown": [
       "&nbsp;&nbsp;&nbsp;&nbsp;Позиция опорной точки: (1, 4)"
      ]
     },
     "metadata": {},
     "output_type": "display_data"
    },
    {
     "data": {
      "text/markdown": [
       "|       |   $s_0$ |   $v_9$ |   $v_2$ |   $v_8$ |   $v_5$ |   $v_7$ |\n",
       "|:------|--------:|--------:|--------:|--------:|--------:|--------:|\n",
       "| $v_6$ |   0.953 |  -0.658 |  -1.595 |   0.452 |   4.571 |   0.159 |\n",
       "| $v_4$ |   0.006 |   0.08  |   0.921 |  -0.085 |   1.143 |   0.011 |\n",
       "| $v_3$ |   0.066 |  -0.077 |   0.144 |   0.078 |  -0.286 |   0.065 |\n",
       "| $v_1$ |   0.003 |   0.045 |   0.018 |   0.015 |   0.143 |  -0.056 |\n",
       "| $Z$   |  -0.075 |  -0.047 |  -0.082 |  -0.007 |  -0     |  -0.02  |"
      ]
     },
     "metadata": {},
     "output_type": "display_data"
    },
    {
     "data": {
      "text/markdown": [
       "&nbsp;&nbsp;&nbsp;&nbsp;Проверка решения:"
      ]
     },
     "metadata": {},
     "output_type": "display_data"
    },
    {
     "data": {
      "text/markdown": [
       "$Z = 0.075 = 0.003v_1+0v_2+0.066v_3+0.006v_4+0v_5 = 0.003\\cdot1+0\\cdot1+0.066\\cdot1+0.006\\cdot1+0\\cdot1 = 0.003+0+0.066+0.006+0 = 0.075$"
      ]
     },
     "metadata": {},
     "output_type": "display_data"
    },
    {
     "data": {
      "text/markdown": [
       "&nbsp;&nbsp;&nbsp;&nbsp;Смешанная стратегия игрока B:"
      ]
     },
     "metadata": {},
     "output_type": "display_data"
    },
    {
     "data": {
      "text/markdown": [
       "$h=13.367$"
      ]
     },
     "metadata": {},
     "output_type": "display_data"
    },
    {
     "data": {
      "text/markdown": [
       "$X=[0.043, 0, 0.881, 0.076, 0]$"
      ]
     },
     "metadata": {},
     "output_type": "display_data"
    },
    {
     "data": {
      "text/markdown": [
       "&nbsp;&nbsp;&nbsp;&nbsp;Проверка корректности решения:"
      ]
     },
     "metadata": {},
     "output_type": "display_data"
    },
    {
     "data": {
      "text/markdown": [
       "$0.043+0+0.881+0.076+0 = 1$"
      ]
     },
     "metadata": {},
     "output_type": "display_data"
    }
   ],
   "source": [
    "source = matrix.straight()\n",
    "\n",
    "summary = Simplex.resolve(source)\n",
    "\n",
    "fmt = {\n",
    "    \"default_var_sym\": \"v\",\n",
    "    \"default_tgt_sym\": \"Z\",\n",
    "    \"default_precision\": 3,\n",
    "}\n",
    "\n",
    "display_markdown(\n",
    "    \"&nbsp;&nbsp;&nbsp;&nbsp;Сформулируем задачу для нахождения оптимальной смешанной стратегии игрока B:\",\n",
    "    Format(source, **fmt).target(),\n",
    "    Format(source, **fmt).system(),\n",
    "    Format(source, **fmt).var_zero_constraint(),\n",
    "    \"&nbsp;&nbsp;&nbsp;&nbsp;Исходная таблица:\",\n",
    "    Format(source, **fmt).table(),\n",
    "    raw=True,\n",
    ")\n",
    "\n",
    "for table, pos in zip(summary.history, summary.solvers):\n",
    "    display_markdown(\n",
    "        f\"&nbsp;&nbsp;&nbsp;&nbsp;Позиция опорной точки: {pos}\",\n",
    "        Format(table, **fmt).table(),\n",
    "        raw=True,\n",
    "    )\n",
    "\n",
    "h, vals = optimal(table)\n",
    "vals *= -1\n",
    "\n",
    "display_markdown(\n",
    "    \"&nbsp;&nbsp;&nbsp;&nbsp;Проверка решения:\",\n",
    "    Format(table, **fmt).check(summary.source.c),\n",
    "    \"&nbsp;&nbsp;&nbsp;&nbsp;Смешанная стратегия игрока B:\",\n",
    "    f\"$h={pretty_value(g, 3)}$\",\n",
    "    f\"$X=[{', '.join(pretty_value(val, 3) for val in vals)}]$\",\n",
    "    \"&nbsp;&nbsp;&nbsp;&nbsp;Проверка корректности решения:\",\n",
    "    f\"${'+'.join(pretty_value(val, 3) for val in vals)} = {pretty_value(np.sum(vals), 3)}$\",\n",
    "    raw=True\n",
    ")"
   ]
  },
  {
   "cell_type": "markdown",
   "metadata": {},
   "source": [
    "## Вывод\n",
    "\n",
    "&nbsp;&nbsp;&nbsp;&nbsp;В ходе работы была изучена постановка антагонистической игры двух лиц в нормальной форме и найдено решение игры за двух игроков в смешанных стратегиях, с помощью преобразования в ЗЛП и симплекс метода. Полученные смешанные стратегии были проверены на допустимость ($\\sum x_i = 1$, $g = h$)."
   ]
  },
  {
   "cell_type": "markdown",
   "metadata": {},
   "source": [
    "## Приложение"
   ]
  },
  {
   "cell_type": "markdown",
   "metadata": {},
   "source": [
    "&nbsp;&nbsp;&nbsp;&nbsp;Исходный код ячейки с исходными данными:"
   ]
  },
  {
   "cell_type": "code",
   "execution_count": null,
   "metadata": {},
   "outputs": [],
   "source": [
    "import numpy as np\n",
    "\n",
    "from src.game import StrategyMatrix, optimal\n",
    "from simplexlib.src.table import Table, Simplex, Format, pretty_value\n",
    "from simplexlib.src.latex import matrix_to_latex\n",
    "from IPython.display import display_markdown\n",
    "\n",
    "\n",
    "matrix = StrategyMatrix(\n",
    "    [\n",
    "        [4, 4, 0, 6, 12],\n",
    "        [1, 14, 14, 13, 11],\n",
    "        [17, 6, 14, 4, 3],\n",
    "        [18, 16, 13, 15, 16],\n",
    "    ]\n",
    ")\n",
    "\n",
    "display_markdown(\n",
    "    \"&nbsp;&nbsp;&nbsp;&nbsp;Исходные данные согласно варианту:\",\n",
    "    matrix_to_latex(np.array(matrix.data, dtype=np.float64), \"A\", brackets=\"b\"),\n",
    "    raw=True\n",
    ")"
   ]
  },
  {
   "cell_type": "markdown",
   "metadata": {},
   "source": [
    "&nbsp;&nbsp;&nbsp;&nbsp;Исходный код ячейки первого игрока:"
   ]
  },
  {
   "cell_type": "code",
   "execution_count": null,
   "metadata": {},
   "outputs": [],
   "source": [
    "source = matrix.inverse()\n",
    "\n",
    "fmt = {\n",
    "    \"default_var_sym\": \"v\",\n",
    "    \"default_tgt_sym\": \"W\",\n",
    "    \"default_precision\": 3,\n",
    "}\n",
    "\n",
    "source.data *= -1\n",
    "\n",
    "display_markdown(\n",
    "    \"&nbsp;&nbsp;&nbsp;&nbsp;Найдем смешанные стратегии для игрока А. Сформулируем задачу для решения симплекс-методом:\",\n",
    "    Format(source, **fmt).target(),\n",
    "    Format(source, **fmt).system(),\n",
    "    Format(source, **fmt).var_zero_constraint(),\n",
    "    \"&nbsp;&nbsp;&nbsp;&nbsp;Исходная simplex-таблица:\",\n",
    "    Format(source, **fmt).table(),\n",
    "    raw=True,\n",
    ")\n",
    "\n",
    "source.data *= -1\n",
    "\n",
    "summary = Simplex.resolve(source)\n",
    "\n",
    "for table, pos in zip(summary.history, summary.solvers):\n",
    "    display_markdown(\n",
    "        f\"&nbsp;&nbsp;&nbsp;&nbsp;Позиция опорной точки: {pos}\",\n",
    "        Format(table, **fmt).table(),\n",
    "        raw=True,\n",
    "    )\n",
    "\n",
    "g, vals = optimal(table)\n",
    "\n",
    "display_markdown(\n",
    "    \"&nbsp;&nbsp;&nbsp;&nbsp;Проверка решения:\",\n",
    "    Format(table, **fmt).check(summary.source.c),\n",
    "    \"&nbsp;&nbsp;&nbsp;&nbsp;Смешанная стратегия игрока А:\",\n",
    "    f\"$g={pretty_value(g, 3)}$\",\n",
    "    f\"$Y=[{', '.join(pretty_value(val, 3) for val in vals)}]$\",\n",
    "    \"&nbsp;&nbsp;&nbsp;&nbsp;Проверка корректности решения:\",\n",
    "    f\"${'+'.join(pretty_value(val, 3) for val in vals)} = {pretty_value(np.sum(vals), 3)}$\",\n",
    "    raw=True\n",
    ")"
   ]
  },
  {
   "cell_type": "markdown",
   "metadata": {},
   "source": [
    "&nbsp;&nbsp;&nbsp;&nbsp;Исходный код ячейки второго игрока:"
   ]
  },
  {
   "cell_type": "code",
   "execution_count": null,
   "metadata": {},
   "outputs": [],
   "source": [
    "source = matrix.straight()\n",
    "\n",
    "summary = Simplex.resolve(source)\n",
    "\n",
    "fmt = {\n",
    "    \"default_var_sym\": \"v\",\n",
    "    \"default_tgt_sym\": \"Z\",\n",
    "    \"default_precision\": 3,\n",
    "}\n",
    "\n",
    "display_markdown(\n",
    "    \"&nbsp;&nbsp;&nbsp;&nbsp;Сформулируем задачу для нахождения оптимальной смешанной стратегии игрока B:\",\n",
    "    Format(source, **fmt).target(),\n",
    "    Format(source, **fmt).system(),\n",
    "    Format(source, **fmt).var_zero_constraint(),\n",
    "    \"&nbsp;&nbsp;&nbsp;&nbsp;Исходная таблица:\",\n",
    "    Format(source, **fmt).table(),\n",
    "    raw=True,\n",
    ")\n",
    "\n",
    "for table, pos in zip(summary.history, summary.solvers):\n",
    "    display_markdown(\n",
    "        f\"&nbsp;&nbsp;&nbsp;&nbsp;Позиция опорной точки: {pos}\",\n",
    "        Format(table, **fmt).table(),\n",
    "        raw=True,\n",
    "    )\n",
    "\n",
    "h, vals = optimal(table)\n",
    "vals *= -1\n",
    "\n",
    "display_markdown(\n",
    "    \"&nbsp;&nbsp;&nbsp;&nbsp;Проверка решения:\",\n",
    "    Format(table, **fmt).check(summary.source.c),\n",
    "    \"&nbsp;&nbsp;&nbsp;&nbsp;Смешанная стратегия игрока B:\",\n",
    "    f\"$h={pretty_value(g, 3)}$\",\n",
    "    f\"$X=[{', '.join(pretty_value(val, 3) for val in vals)}]$\",\n",
    "    \"&nbsp;&nbsp;&nbsp;&nbsp;Проверка корректности решения:\",\n",
    "    f\"${'+'.join(pretty_value(val, 3) for val in vals)} = {pretty_value(np.sum(vals), 3)}$\",\n",
    "    raw=True\n",
    ")"
   ]
  },
  {
   "cell_type": "markdown",
   "metadata": {},
   "source": [
    "&nbsp;&nbsp;&nbsp;&nbsp;Исходный код src/game.py:"
   ]
  },
  {
   "cell_type": "code",
   "execution_count": 4,
   "metadata": {
    "collapsed": true
   },
   "outputs": [],
   "source": [
    "# %load src/game.py\n",
    "import numpy as np\n",
    "\n",
    "from simplexlib.src.table import Table, V\n",
    "\n",
    "\n",
    "class StrategyMatrix:\n",
    "    data: np.ndarray\n",
    "\n",
    "    def __init__(self, data: np.ndarray):\n",
    "        self.data = data\n",
    "\n",
    "    def straight(self) -> Table:\n",
    "        return Table.straight(\n",
    "            [1] * len(self.data[0]),\n",
    "            *[V[line] <= 1 for line in self.data]\n",
    "        )\n",
    "\n",
    "    def inverse(self) -> Table:\n",
    "        return Table.inverse(\n",
    "            [1] * len(self.data[0]),\n",
    "            *[V[line] <= 1 for line in self.data]\n",
    "        )\n",
    "\n",
    "def optimal(table: Table):\n",
    "    h = 1 / table.F\n",
    "    return h, table.real_b * h"
   ]
  },
  {
   "cell_type": "markdown",
   "metadata": {},
   "source": [
    "&nbsp;&nbsp;&nbsp;&nbsp;Исходный код simplexlib/src/table.py:"
   ]
  },
  {
   "cell_type": "code",
   "execution_count": 5,
   "metadata": {
    "collapsed": true
   },
   "outputs": [
    {
     "ename": "ImportError",
     "evalue": "attempted relative import with no known parent package",
     "output_type": "error",
     "traceback": [
      "\u001b[0;31m---------------------------------------------------------------------------\u001b[0m",
      "\u001b[0;31mImportError\u001b[0m                               Traceback (most recent call last)",
      "\u001b[0;32m/var/folders/__/62f8dx6x5pg6sx0jzztvbsqr0000gn/T/ipykernel_13442/992606080.py\u001b[0m in \u001b[0;36m<module>\u001b[0;34m\u001b[0m\n\u001b[1;32m     11\u001b[0m \u001b[0;32mfrom\u001b[0m \u001b[0mtyping\u001b[0m \u001b[0;32mimport\u001b[0m \u001b[0mAny\u001b[0m\u001b[0;34m,\u001b[0m \u001b[0mCallable\u001b[0m\u001b[0;34m,\u001b[0m \u001b[0mIterable\u001b[0m\u001b[0;34m,\u001b[0m \u001b[0mList\u001b[0m\u001b[0;34m,\u001b[0m \u001b[0mOptional\u001b[0m\u001b[0;34m\u001b[0m\u001b[0;34m\u001b[0m\u001b[0m\n\u001b[1;32m     12\u001b[0m \u001b[0;34m\u001b[0m\u001b[0m\n\u001b[0;32m---> 13\u001b[0;31m \u001b[0;32mfrom\u001b[0m \u001b[0;34m.\u001b[0m\u001b[0mlatex\u001b[0m \u001b[0;32mimport\u001b[0m \u001b[0marray_to_latex\u001b[0m\u001b[0;34m,\u001b[0m \u001b[0mmatrix_to_latex\u001b[0m\u001b[0;34m,\u001b[0m \u001b[0mequation_system\u001b[0m\u001b[0;34m,\u001b[0m \u001b[0mBrackets\u001b[0m\u001b[0;34m\u001b[0m\u001b[0;34m\u001b[0m\u001b[0m\n\u001b[0m\u001b[1;32m     14\u001b[0m \u001b[0;34m\u001b[0m\u001b[0m\n\u001b[1;32m     15\u001b[0m \u001b[0;34m\u001b[0m\u001b[0m\n",
      "\u001b[0;31mImportError\u001b[0m: attempted relative import with no known parent package"
     ]
    }
   ],
   "source": [
    "# %load simplexlib/src/table.py\n",
    "from __future__ import annotations\n",
    "\n",
    "import inspect as insp\n",
    "import numpy as np\n",
    "import pandas as pd\n",
    "\n",
    "from dataclasses import dataclass, field\n",
    "from itertools import product\n",
    "from functools import wraps\n",
    "from typing import Any, Callable, Iterable, List, Optional\n",
    "\n",
    "from .latex import array_to_latex, matrix_to_latex, equation_system, Brackets\n",
    "\n",
    "\n",
    "def fill_defaults(method: Callable):\n",
    "    \"\"\"\n",
    "    Helps to avoid writing duplicate code\n",
    "    in each function with these arguments:\n",
    "\n",
    "    ```\n",
    "    precision = precision or self.default_precision\n",
    "    var_sym = var_sym or self.default_var_sym\n",
    "    tgt_sym = tgt_sym or self.default_tgt_sym\n",
    "    ...\n",
    "    ```\n",
    "    \"\"\"\n",
    "    signature = insp.signature(method).parameters\n",
    "\n",
    "    _, *signature = signature\n",
    "\n",
    "    @wraps(method)\n",
    "    def _wrapper(\n",
    "        self: Table,\n",
    "        *args,\n",
    "        **kwargs,\n",
    "    ):\n",
    "        args = list(args)\n",
    "\n",
    "        for idx, name in enumerate(signature):\n",
    "            # Since self argument was skipped\n",
    "            idx = idx + 1\n",
    "\n",
    "            # Positional parameter\n",
    "            if len(args) > idx and args[idx] is None:\n",
    "                args[idx] = getattr(self, f\"default_{name}\", None)\n",
    "\n",
    "            # Keyword parameter\n",
    "            elif idx > len(args) and kwargs.get(name, None) is None:\n",
    "                kwargs[name] = getattr(self, f\"default_{name}\", None)\n",
    "\n",
    "        # Launch method execution\n",
    "        return method(\n",
    "            self,\n",
    "            *args,\n",
    "            **kwargs,\n",
    "        )\n",
    "\n",
    "    return _wrapper\n",
    "\n",
    "\n",
    "@dataclass\n",
    "class Vec:\n",
    "    data: List\n",
    "\n",
    "    def __le__(self, oth: float):\n",
    "        return type(self)([*self.data, oth])\n",
    "\n",
    "    def __ge__(self, oth: float):\n",
    "        return type(self)([*self.data, -oth])\n",
    "\n",
    "    @property\n",
    "    def inv(self):\n",
    "        self.data = [-elem for elem in self.data]\n",
    "\n",
    "        return self\n",
    "\n",
    "\n",
    "class V:\n",
    "    \"\"\"\n",
    "    Allows V[elem1, elem2, ..., elemN] syntax on system definition\n",
    "    \"\"\"\n",
    "\n",
    "    def __getitem__(self, key):\n",
    "        return Vec(list(key))\n",
    "\n",
    "\n",
    "V = V()\n",
    "\n",
    "\n",
    "def pretty_coefficient(value: np.float64, precision: int) -> str:\n",
    "    value = np.round(value, precision)\n",
    "\n",
    "    if np.float64.is_integer(value):\n",
    "        value = value.astype(int)\n",
    "\n",
    "    return f\"{'-' if value < 0 else ''}{'' if (val := np.abs(value)) == 1 else val.astype(str)}\"\n",
    "\n",
    "\n",
    "def pretty_value(value: np.float64, precision: int) -> str:\n",
    "    value = np.round(value, precision)\n",
    "\n",
    "    if np.float64.is_integer(value):\n",
    "        value = value.astype(int)\n",
    "\n",
    "    return value.astype(str)\n",
    "\n",
    "\n",
    "def pretty_sum(array: Iterable[str]):\n",
    "    return \"+\".join(array).replace(\"+-\", \"-\")\n",
    "\n",
    "\n",
    "@dataclass\n",
    "class Format:\n",
    "    # Source table reference\n",
    "    victim: Table\n",
    "\n",
    "    # Markdown output modifiers\n",
    "    default_A_sym: str = \"A\"\n",
    "    default_b_sym: str = \"b\"\n",
    "    default_c_sym: str = \"c\"\n",
    "    default_var_sym: str = \"x\"\n",
    "    default_tgt_sym: str = \"F\"\n",
    "    default_unbound: str = \"s_0\"\n",
    "    default_precision: str = 2\n",
    "    default_brackets: Brackets = Brackets.square\n",
    "\n",
    "    @fill_defaults\n",
    "    def system(\n",
    "        self,\n",
    "        precision: Optional[int] = None,\n",
    "        var_sym: Optional[str] = None,\n",
    "    ) -> str:\n",
    "        \"\"\"System as latex output\"\"\"\n",
    "        # Create matrix (num of constraints X total number of variables)\n",
    "        sq = np.zeros((len(self.victim.vlabels), self.victim.var_num))\n",
    "\n",
    "        # Go along 0 axis of A\n",
    "        for row, vec in enumerate(self.victim.A):\n",
    "            # Variable is not present - set as +-1 depending on the constraint\n",
    "            sq[row, self.victim.vlabels[row] - 1] = -1 if self.victim.b[row] < 0 else 1\n",
    "\n",
    "            # Go along 1 axis of A\n",
    "            for elem, col in zip(vec, self.victim.hlabels):\n",
    "                # Set respective variables\n",
    "                sq[row, col - 1] = elem\n",
    "\n",
    "        # Constraints are positive\n",
    "        constr = np.abs(self.victim.b)\n",
    "        # Labels are sorted in ascention order\n",
    "        labels = [f\"{var_sym}_{idx + 1}\" for idx in range(self.victim.var_num)]\n",
    "\n",
    "        # Build equation system\n",
    "        return equation_system(\n",
    "            sq,\n",
    "            constr,\n",
    "            labels,\n",
    "            precision,\n",
    "        )\n",
    "\n",
    "    @fill_defaults\n",
    "    def target(\n",
    "        self,\n",
    "        precision: Optional[int] = None,\n",
    "        var_sym: Optional[str] = None,\n",
    "        tgt_sym: Optional[str] = None,\n",
    "    ) -> str:\n",
    "        \"\"\"Target vector as latex output\"\"\"\n",
    "        # Cast c to pretty strings\n",
    "        c = [pretty_coefficient(elem, precision) for elem in self.victim.c]\n",
    "        # Make equation\n",
    "        eq = pretty_sum(\n",
    "            [f\"{elem}{var_sym}_{label}\" for elem, label in zip(c, self.victim.hlabels)]\n",
    "        )\n",
    "\n",
    "        # Return target equation\n",
    "        return f\"${tgt_sym} = {eq} \\\\rightarrow {'min' if self.victim.minimize else 'max'}$\"\n",
    "\n",
    "    @fill_defaults\n",
    "    def table(\n",
    "        self,\n",
    "        precision: Optional[int] = None,\n",
    "        var_sym: Optional[str] = None,\n",
    "        tgt_sym: Optional[str] = None,\n",
    "        unbound: Optional[str] = None,\n",
    "    ) -> str:\n",
    "        \"\"\"System table as latex output\"\"\"\n",
    "        return pd.DataFrame(\n",
    "            np.round(self.victim.data, precision),\n",
    "            index=[f\"${var_sym}_{value}$\" for value in self.victim.vlabels]\n",
    "            + [f\"${tgt_sym}$\"],\n",
    "            columns=[f\"${unbound}$\"]\n",
    "            + [\n",
    "                f\"${var_sym}_{value}$\"\n",
    "                for value in (\n",
    "                    self.victim.hlabels\n",
    "                    if not self.victim.expanded\n",
    "                    else [idx + 1 for idx, _ in enumerate(self.victim.hlabels)]\n",
    "                )\n",
    "            ],\n",
    "        ).to_markdown()\n",
    "\n",
    "    @fill_defaults\n",
    "    def A(\n",
    "        self,\n",
    "        precision: Optional[int] = None,\n",
    "        A_sym: Optional[str] = None,\n",
    "        brackets: Optional[Brackets] = None,\n",
    "    ) -> str:\n",
    "        \"\"\"A matrix as latex output\"\"\"\n",
    "        return matrix_to_latex(self.victim.A, A_sym, precision, brackets)\n",
    "\n",
    "    @fill_defaults\n",
    "    def b(\n",
    "        self,\n",
    "        precision: Optional[int] = None,\n",
    "        b_sym: Optional[str] = None,\n",
    "        brackets: Optional[Brackets] = None,\n",
    "    ) -> str:\n",
    "        \"\"\"b array as latex output\"\"\"\n",
    "        return array_to_latex(self.victim.b, b_sym, precision, brackets)\n",
    "\n",
    "    @fill_defaults\n",
    "    def c(\n",
    "        self,\n",
    "        precision: Optional[int] = None,\n",
    "        c_sym: Optional[str] = None,\n",
    "        brackets: Optional[Brackets] = None,\n",
    "    ) -> str:\n",
    "        \"\"\"c array as latex output\"\"\"\n",
    "        return array_to_latex(self.victim.c, c_sym, precision, brackets)\n",
    "\n",
    "    @fill_defaults\n",
    "    def var_zero_constraint(self, var_sym: Optional[str] = None) -> str:\n",
    "        \"\"\"Variables with greater-or-equal constraint\"\"\"\n",
    "        # lower-to-greater ordered variables\n",
    "        vars = [f\"{var_sym}_{idx}\" for idx in range(self.victim.var_num)]\n",
    "        # With >= 0 constraint\n",
    "        res = \", \".join(vars) + \" ≥ 0\"\n",
    "        return f\"${res}$\"\n",
    "\n",
    "    @fill_defaults\n",
    "    def base_vars(\n",
    "        self,\n",
    "        var_sym: Optional[str] = None,\n",
    "        precision: Optional[int] = None,\n",
    "    ) -> str:\n",
    "        b = [pretty_value(elem, precision) for elem in self.victim.b]\n",
    "\n",
    "        eq = \", \".join(\n",
    "            f\"{var_sym}_{label} = {value}\"\n",
    "            for value, label in zip(b, self.victim.vlabels)\n",
    "        )\n",
    "\n",
    "        return f\"${eq}$\"\n",
    "\n",
    "    @fill_defaults\n",
    "    def free_vars(\n",
    "        self,\n",
    "        var_sym: Optional[str] = None,\n",
    "    ) -> str:\n",
    "        eq = \" = \".join(f\"{var_sym}_{label}\" for label in self.victim.hlabels)\n",
    "\n",
    "        return f\"${eq} = 0$\"\n",
    "\n",
    "    @fill_defaults\n",
    "    def solution(\n",
    "        self,\n",
    "        var_sym: Optional[str] = None,\n",
    "        precision: Optional[int] = None,\n",
    "    ) -> str:\n",
    "        eq = \", \".join(\n",
    "            f\"{var_sym}_{label} = {pretty_value(value, precision)}\"\n",
    "            for value, label in zip(self.victim.real_b, self.victim.rlabels)\n",
    "        )\n",
    "\n",
    "        return f\"${eq}$\"\n",
    "\n",
    "    @fill_defaults\n",
    "    def check(\n",
    "        self,\n",
    "        against: np.ndarray,\n",
    "        zeros: bool = False,\n",
    "        var_sym: Optional[str] = None,\n",
    "        tgt_sym: Optional[str] = None,\n",
    "        precision: Optional[str] = None,\n",
    "    ) -> str:\n",
    "        # Create string representation of real labels\n",
    "        labels = [f\"{var_sym}_{label}\" for label in self.victim.rlabels]\n",
    "        scoeffs = [pretty_coefficient(value, precision) for value in self.victim.real_b]\n",
    "        sscoeffs = [pretty_value(value, precision) for value in self.victim.real_b]\n",
    "        sagainst = [pretty_value(value, precision) for value in against]\n",
    "\n",
    "        # Make line with coefficients\n",
    "        fline = pretty_sum(\n",
    "            f\"{coef}{label}\"\n",
    "            for coef, label, rcoef in zip(scoeffs, labels, self.victim.real_b)\n",
    "            if not zeros or rcoef != 0\n",
    "        )\n",
    "\n",
    "        # Make line with sum\n",
    "        sline = pretty_sum(\n",
    "            f\"{coef}\\cdot{f'({value})' if rvalue < 0 else value}\"\n",
    "            for coef, value, rcoef, rvalue in zip(\n",
    "                sscoeffs, sagainst, self.victim.real_b, against\n",
    "            )\n",
    "            if not zeros or (rcoef != 0 and rvalue != 0)\n",
    "        )\n",
    "\n",
    "        # Compute result array and cast it to strings\n",
    "        result = self.victim.real_b * against\n",
    "        sresult = [\n",
    "            pretty_value(value, precision)\n",
    "            for value in result\n",
    "            if not zeros or value != 0\n",
    "        ]\n",
    "        tline = pretty_sum(sresult)\n",
    "\n",
    "        rresult = self.victim.result * (-1 if self.victim.minimize else 1)\n",
    "        return f\"${tgt_sym} = {pretty_value(rresult, precision)} = {fline} = {sline} = {tline} = {pretty_value(np.sum(result), precision)}$\"\n",
    "\n",
    "\n",
    "class Table:\n",
    "    # Actual system data\n",
    "    data: np.ndarray\n",
    "    minimize: bool = True\n",
    "    expanded: bool = False\n",
    "\n",
    "    # Rows & columns mapping\n",
    "    hlabels: list\n",
    "    vlabels: list\n",
    "\n",
    "    # \"Real\" labels\n",
    "    rlabels: list\n",
    "\n",
    "    def __init__(\n",
    "        self,\n",
    "        c: np.ndarray,\n",
    "        A: np.ndarray,\n",
    "        b: np.ndarray,\n",
    "        vlabels: List[int],\n",
    "        hlabels: List[str],\n",
    "        rlabels: Optional[List[str]] = None,\n",
    "        F: np.float64 = 0.0,\n",
    "        minimize: bool = True,\n",
    "        expanded: bool = False,\n",
    "    ):\n",
    "        \"\"\"Creates simplex table data\"\"\"\n",
    "        # Create simplex table\n",
    "        constr = np.expand_dims(b, axis=1)\n",
    "        data = np.hstack((constr, A))\n",
    "        tgt = np.hstack((F, c))\n",
    "\n",
    "        # Set result table\n",
    "        self.data = np.vstack((data, tgt))\n",
    "\n",
    "        # Set labels\n",
    "        self.vlabels = vlabels\n",
    "        self.hlabels = hlabels\n",
    "        self.rlabels = rlabels or list(hlabels)\n",
    "\n",
    "        # Set opt target\n",
    "        self.minimize = minimize\n",
    "        self.expanded = expanded\n",
    "\n",
    "    @property\n",
    "    def A(self) -> np.ndarray:\n",
    "        \"\"\"A input matrix\"\"\"\n",
    "        return self.data[:-1, 1:]\n",
    "\n",
    "    @property\n",
    "    def b(self) -> np.ndarray:\n",
    "        \"\"\"b input array\"\"\"\n",
    "        return self.data[:-1, 0]\n",
    "\n",
    "    @property\n",
    "    def c(self) -> np.ndarray:\n",
    "        \"\"\"c input array\"\"\"\n",
    "        return self.data[-1, 1:]\n",
    "\n",
    "    @property\n",
    "    def s0(self) -> np.ndarray:\n",
    "        \"\"\"\n",
    "        s0 column with free coefficients\n",
    "        (idk if this is the way to call s0)\n",
    "        \"\"\"\n",
    "        return self.b\n",
    "\n",
    "    @property\n",
    "    def F(self) -> np.ndarray:\n",
    "        \"\"\"Result value\"\"\"\n",
    "        return self.data[-1, 0]\n",
    "\n",
    "    @property\n",
    "    def result(self) -> np.ndarray:\n",
    "        \"\"\"Result value alias\"\"\"\n",
    "        return self.F\n",
    "\n",
    "    @property\n",
    "    def real_b(self) -> np.ndarray:\n",
    "        \"\"\"values of source variables\"\"\"\n",
    "        current = {label: value for value, label in zip(self.b, self.vlabels)}\n",
    "        values = [current.get(label, np.float64(0)) for label in self.rlabels]\n",
    "\n",
    "        return np.array(values)\n",
    "\n",
    "    @property\n",
    "    def var_num(self) -> int:\n",
    "        \"\"\"Number of bound/unbound variables\"\"\"\n",
    "        return (\n",
    "            len(self.hlabels)\n",
    "            if self.expanded\n",
    "            else (len(self.hlabels) + len(self.vlabels))\n",
    "        )\n",
    "\n",
    "    @classmethod\n",
    "    def straight(\n",
    "        cls, target: Iterable[float], *system: List[Vec], expanded: bool = False\n",
    "    ) -> Table:\n",
    "        \"\"\"\n",
    "        Place for logic & validation\n",
    "        To be used with Vec objects\n",
    "        \"\"\"\n",
    "        system = [(v.data[:-1], v.data[-1]) for v in system]\n",
    "        A, b = list(map(list, zip(*system)))\n",
    "        labels = list(range(1, len(A[0]) + len(A) + 1))\n",
    "\n",
    "        if expanded:\n",
    "            A = np.hstack((A, np.eye(len(A), len(A), dtype=np.float64)))\n",
    "            target = np.hstack((target, np.zeros((len(A),), dtype=np.float64)))\n",
    "\n",
    "            return cls(\n",
    "                target,\n",
    "                A,\n",
    "                np.array(b, dtype=np.float64),\n",
    "                labels[len(b) :],\n",
    "                labels,\n",
    "                labels[: len(b)],\n",
    "                expanded=expanded,\n",
    "            )\n",
    "\n",
    "        return cls(\n",
    "            np.array(target, dtype=np.float64),\n",
    "            np.array(A, dtype=np.float64),\n",
    "            np.array(b, dtype=np.float64),\n",
    "            labels[len(A[0]) :],\n",
    "            labels[: len(A[0])],\n",
    "        )\n",
    "\n",
    "    @classmethod\n",
    "    def inverse(\n",
    "        cls,\n",
    "        target: Iterable[float],\n",
    "        *system: List[Vec],\n",
    "    ) -> Table:\n",
    "        system = [(v.data[:-1], v.data[-1]) for v in system]\n",
    "        A, b = list(map(list, zip(*system)))\n",
    "        labels = list(range(1, len(A[0]) + len(A) + 1))\n",
    "\n",
    "        return cls(\n",
    "            np.array(b, dtype=np.float64).T * -1,\n",
    "            np.array(A, dtype=np.float64).T * -1,\n",
    "            np.array(target, dtype=np.float64).T * -1,\n",
    "            labels[len(A) :],\n",
    "            labels[: len(A)],\n",
    "        )\n",
    "\n",
    "    def __rshift__(self, oth: Callable):\n",
    "        \"\"\"\n",
    "        Allows to set optimization target in functional style:\n",
    "        ```\n",
    "        Table >> (min | max)\n",
    "        ```\n",
    "        \"\"\"\n",
    "        # If -> min\n",
    "        if oth is min:\n",
    "            # Check if target is not min, otherwise leave F as is\n",
    "            if not self.minimize:\n",
    "                self.data[-1, :] *= -1\n",
    "\n",
    "                self.minimize = True\n",
    "\n",
    "            return self\n",
    "\n",
    "        # If -> max\n",
    "        if oth is max:\n",
    "            # Check if target is min, otherwise leave F as is\n",
    "            if self.minimize:\n",
    "                # multiply F vector by -1\n",
    "                self.data[-1, :] *= -1\n",
    "\n",
    "                self.minimize = False\n",
    "\n",
    "            return self\n",
    "\n",
    "        # Other values are not allowed\n",
    "        raise ValueError(\"Only `min` & `max` funtions are allowed for `>` use\")\n",
    "\n",
    "    def __getitem__(self, item: Any) -> np.ndarray:\n",
    "        # Forward __getitem__ to underlying table\n",
    "        return self.data.__getitem__(item)\n",
    "\n",
    "    def __setitem__(self, key: Any, value: Any) -> None:\n",
    "        # Forward __setitem__ to underlying table\n",
    "        return self.data.__setitem__(key, value)\n",
    "\n",
    "    def add_constraint(\n",
    "        self,\n",
    "        equation: Vec,\n",
    "    ) -> Table:\n",
    "        \"\"\"\n",
    "        Adds constraint to the system, returns new Table\n",
    "        To be used with Vec object\n",
    "        \"\"\"\n",
    "        c = self.c.copy()\n",
    "        if self.expanded:\n",
    "            c = np.hstack((c, [0]))\n",
    "\n",
    "        A = np.vstack((self.A.copy(), equation.data[:-1]))\n",
    "        if self.expanded:\n",
    "            expansion = np.zeros((len(A),))\n",
    "            expansion[-1] = 1.0\n",
    "            expansion = np.expand_dims(expansion, axis=1)\n",
    "            A = np.hstack((A, expansion))\n",
    "\n",
    "        b = np.hstack((self.b.copy(), equation.data[-1]))\n",
    "\n",
    "        # Copy table with one more line to the system\n",
    "        return Table(\n",
    "            c,\n",
    "            A,\n",
    "            b,\n",
    "            self.vlabels + [self.var_num + 1],\n",
    "            self.hlabels + ([self.var_num + 1] if self.expanded else []),\n",
    "            self.rlabels,\n",
    "            self.F,\n",
    "            self.minimize,\n",
    "            self.expanded,\n",
    "        )\n",
    "\n",
    "    @property\n",
    "    def clone(self) -> Table:\n",
    "        \"\"\"Convinience method for preserving table state\"\"\"\n",
    "\n",
    "        return Table(\n",
    "            self.c.copy(),\n",
    "            self.A.copy(),\n",
    "            self.b.copy(),\n",
    "            list(self.vlabels),\n",
    "            list(self.hlabels),\n",
    "            list(self.rlabels),\n",
    "            self.F,\n",
    "            self.minimize,\n",
    "            self.expanded,\n",
    "        )\n",
    "\n",
    "\n",
    "@dataclass\n",
    "class SimplexResult:\n",
    "    fixed: bool = field(default=True)\n",
    "    solved: bool = field(default=False)\n",
    "    fix_history: list = field(default_factory=list)\n",
    "    fix_pos: list = field(default_factory=list)\n",
    "    sol_history: list = field(default_factory=list)\n",
    "    sol_pos: list = field(default_factory=list)\n",
    "\n",
    "    def __bool__(self):\n",
    "        return self.fixed and self.solved\n",
    "\n",
    "    @property\n",
    "    def history(self):\n",
    "        return self.fix_history[1:] + self.sol_history[1:]\n",
    "\n",
    "    @property\n",
    "    def solvers(self):\n",
    "        return self.fix_pos + self.sol_pos\n",
    "\n",
    "    @property\n",
    "    def source(self):\n",
    "        if not self.fix_history:\n",
    "            raise ValueError(\"Incomplete result\")\n",
    "\n",
    "        return self.fix_history[0]\n",
    "\n",
    "    @property\n",
    "    def result(self):\n",
    "        if not self.sol_history:\n",
    "            raise ValueError(\"Incomplete result\")\n",
    "\n",
    "        return self.sol_history[-1]\n",
    "\n",
    "\n",
    "class Simplex:\n",
    "    @classmethod\n",
    "    def _find_negative(cls, table: Table, idx: int) -> Optional[int]:\n",
    "        # Values of non-basis variables in row of negative s0\n",
    "        row = table[idx, 1:].flatten()\n",
    "\n",
    "        # Look for first negative\n",
    "        idx = np.argmin(row)\n",
    "\n",
    "        # Extract index (compensate for missing leading value by adding one to index)\n",
    "        return (idx + 1) if row[idx] < 0 else None\n",
    "\n",
    "    @classmethod\n",
    "    def _find_pivot(cls, table: Table) -> Optional[int]:\n",
    "        # Values of non-basis variables in F-row (w/o s0-column value)\n",
    "        row = table.c.flatten()\n",
    "\n",
    "        # Look for first positive/negative\n",
    "        idx = (np.argmax if table.minimize else np.argmin)(row)\n",
    "\n",
    "        # Extract index (compensate for missing leading value by adding one to index)\n",
    "        return (idx + 1) if (row[idx] > 0 if table.minimize else row[idx] < 0) else None\n",
    "\n",
    "    @classmethod\n",
    "    def _find_minimal_ratio(\n",
    "        cls,\n",
    "        table: Table,\n",
    "        jdx: int,\n",
    "    ) -> Optional[int]:\n",
    "        # s0 & solver columns\n",
    "        column = table.b.flatten()\n",
    "        solver_column = table[:-1, jdx].flatten()\n",
    "\n",
    "        # I'll map division results to array of +np.inf\n",
    "        # so any values, which either break divison (or division result < 0)\n",
    "        # will end up as +np.inf and do not mess up argmin\n",
    "        infs = np.full_like(column, +np.inf)\n",
    "        idx = np.argmin(\n",
    "            np.divide(\n",
    "                column,\n",
    "                solver_column,\n",
    "                out=infs,\n",
    "                where=(solver_column != 0) & (column * solver_column >= 0),\n",
    "            )\n",
    "        )\n",
    "\n",
    "        # Check if there were any valid ratios & return idx\n",
    "        return idx if infs[idx] != +np.inf else None\n",
    "\n",
    "    @classmethod\n",
    "    def _find_fixer(cls, table: Table) -> tuple[tuple[int, int], bool]:\n",
    "        # Values of s0-column (w/o F-row value)\n",
    "        column = table[:-1, 0].flatten()\n",
    "\n",
    "        # Look for first negative\n",
    "        indices = np.flatnonzero(column < 0)\n",
    "\n",
    "        # Extract index\n",
    "        idx = indices[0] if len(indices) else None\n",
    "\n",
    "        if idx is None:\n",
    "            return None, True\n",
    "\n",
    "        jdx = cls._find_negative(table, idx)\n",
    "\n",
    "        # No column - either solved, or not solvable at all\n",
    "        if jdx is None:\n",
    "            return None, False\n",
    "\n",
    "        # Find minimal positive ratio of solver s0 & solver column\n",
    "        idx = cls._find_minimal_ratio(table, jdx) if jdx else None\n",
    "\n",
    "        # There is no solver row\n",
    "        if idx is None:\n",
    "            return None, False\n",
    "\n",
    "        # Return tuple if both of indices are valid\n",
    "        return (idx, jdx), True\n",
    "\n",
    "    @classmethod\n",
    "    def _find_solver(cls, table: Table) -> tuple[tuple[int, int], bool]:\n",
    "        jdx = cls._find_pivot(table)\n",
    "\n",
    "        # No column - solved\n",
    "        if jdx is None:\n",
    "            return None, True\n",
    "\n",
    "        # Find minimal positive ratio of solver s0 & solver column\n",
    "        idx = cls._find_minimal_ratio(table, jdx) if jdx else None\n",
    "\n",
    "        # There is no solver row\n",
    "        if idx is None:\n",
    "            return None, False\n",
    "\n",
    "        # Return tuple if both of indices are valid\n",
    "        return (idx, jdx), True\n",
    "\n",
    "    @classmethod\n",
    "    def _step(cls, table: Table, idx: int, jdx: int):\n",
    "        # Table dimensions\n",
    "        x, y = table.data.shape\n",
    "\n",
    "        # Adjust labels. Sub 1 from jdx since labels do not include s0\n",
    "        table.vlabels[idx], table.hlabels[jdx - 1] = (\n",
    "            table.hlabels[jdx - 1],\n",
    "            table.vlabels[idx],\n",
    "        )\n",
    "\n",
    "        # Solver-values shortcut\n",
    "        solver = table[idx, jdx]\n",
    "\n",
    "        # Flatten makes copies\n",
    "        solver_row = table[idx, :].flatten()\n",
    "        solver_column = table[:, jdx].flatten()\n",
    "\n",
    "        # Is there any other way?\n",
    "        if not table.expanded:\n",
    "            for i, j in product(range(x), range(y)):\n",
    "                if i == idx and j == jdx:\n",
    "                    table[i, j] = 1 / solver\n",
    "                elif i == idx:\n",
    "                    table[i, j] /= solver\n",
    "                elif j == jdx:\n",
    "                    table[i, j] /= -solver\n",
    "                else:\n",
    "                    table[i, j] -= solver_column[i] * solver_row[j] / solver\n",
    "        else:\n",
    "            for i, j in product(range(x), range(y)):\n",
    "                # if i == idx and j == jdx:\n",
    "                #     table[i, j] = 1 / solver\n",
    "                if i == idx:\n",
    "                    table[i, j] /= solver\n",
    "                # elif j == jdx:\n",
    "                #     table[i, j] /= -solver\n",
    "                else:\n",
    "                    table[i, j] -= solver_column[i] * solver_row[j] / solver\n",
    "\n",
    "        return table\n",
    "\n",
    "    @classmethod\n",
    "    def fix(cls, table: Table):\n",
    "        # First history entry is always source table\n",
    "        history, positions = [table], list()\n",
    "        while fixer := cls._find_fixer(table):\n",
    "            # Dispatch _find_fixer result\n",
    "            pos, fixable = fixer\n",
    "\n",
    "            # Table wont fix\n",
    "            if not fixable:\n",
    "                fixed = False\n",
    "\n",
    "                break\n",
    "\n",
    "            # Fixable & no fix position - fixed\n",
    "            if not pos:\n",
    "                fixed = True\n",
    "\n",
    "                break\n",
    "\n",
    "            # Perform matrix transofrm\n",
    "            table = cls._step(table.clone, *pos)\n",
    "\n",
    "            # Write resulting table to history\n",
    "            history.append(table)\n",
    "            positions.append(pos)\n",
    "\n",
    "        return history, positions, fixed\n",
    "\n",
    "    @classmethod\n",
    "    def solve(cls, table: Table):\n",
    "        # First history entry is always source table\n",
    "        history, positions = [table], list()\n",
    "        while solver := cls._find_solver(table):\n",
    "            # Dispatch _find_solver result\n",
    "            pos, solvable = solver\n",
    "\n",
    "            # Table wont solve\n",
    "            if not solvable:\n",
    "                solved = False\n",
    "\n",
    "                break\n",
    "\n",
    "            # Solvable & no solve position - solved\n",
    "            if not pos:\n",
    "                solved = True\n",
    "\n",
    "                break\n",
    "\n",
    "            # Perform matrix transofrm\n",
    "            table = cls._step(table.clone, *pos)\n",
    "\n",
    "            # Write resulting table to history\n",
    "            history.append(table)\n",
    "            positions.append(pos)\n",
    "\n",
    "        return history, positions, solved\n",
    "\n",
    "    @classmethod\n",
    "    def resolve(cls, table: Table) -> SimplexResult:\n",
    "        # Trying to fix input table\n",
    "        fix_hist, fix_pos, fixed = cls.fix(table)\n",
    "\n",
    "        # Unable to fix input table\n",
    "        if not fixed:\n",
    "            return SimplexResult(fixed, False, fix_hist, fix_pos)\n",
    "\n",
    "        # The last table is resulting fix-table\n",
    "        *_, table = fix_hist\n",
    "\n",
    "        # Tryin to solve fixed table\n",
    "        sol_hist, sol_pos, solved = cls.solve(table)\n",
    "\n",
    "        return SimplexResult(fixed, solved, fix_hist, fix_pos, sol_hist, sol_pos)\n"
   ]
  },
  {
   "cell_type": "markdown",
   "metadata": {},
   "source": [
    "&nbsp;&nbsp;&nbsp;&nbsp;Исходный код simplexlib/src/latex.py:"
   ]
  },
  {
   "cell_type": "code",
   "execution_count": null,
   "metadata": {
    "collapsed": true
   },
   "outputs": [],
   "source": [
    "# %load simplexlib/src/latex.py\n",
    "import numpy as np\n",
    "\n",
    "from enum import Enum\n",
    "\n",
    "\n",
    "class Brackets(str, Enum):\n",
    "    plain = \"\"\n",
    "    round = \"p\"\n",
    "    square = \"b\"\n",
    "    curly = \"B\"\n",
    "    pipes = \"v\"\n",
    "    double = \"V\"\n",
    "\n",
    "\n",
    "def array_to_latex(\n",
    "    array: np.ndarray,\n",
    "    name: str = str(),\n",
    "    precision: int = 2,\n",
    "    brackets: Brackets = Brackets.plain,\n",
    "):\n",
    "    assert len(array.shape) == 1, f\"Can not display array of shape: {array.shape}\"\n",
    "\n",
    "    if isinstance(brackets, str):\n",
    "        brackets = Brackets(brackets)\n",
    "\n",
    "    array = np.round(array, precision)\n",
    "    row = \" & \".join(\n",
    "        str(value.astype(int)) if np.float64.is_integer(value) else value.astype(str)\n",
    "        for value in array\n",
    "    )\n",
    "    line = (\n",
    "        name\n",
    "        and f\"{name} = \"\n",
    "        + f\"\\\\begin{{{brackets.value}matrix}}\\n{row}\\n\\\\end{{{brackets.value}matrix}}\"\n",
    "    )\n",
    "\n",
    "    return f\"${line}$\"\n",
    "\n",
    "\n",
    "def matrix_to_latex(\n",
    "    array: np.ndarray,\n",
    "    name: str = str(),\n",
    "    precision: int = 2,\n",
    "    brackets: Brackets = Brackets.plain,\n",
    "):\n",
    "    assert len(array.shape) == 2, f\"Can not display array of shape: {array.shape}\"\n",
    "\n",
    "    if isinstance(brackets, str):\n",
    "        brackets = Brackets(brackets)\n",
    "\n",
    "    array = np.round(array, precision)\n",
    "    rows = \"\\\\\\\\\\n\".join(\n",
    "        \" & \".join(\n",
    "            str(value.astype(int))\n",
    "            if np.float64.is_integer(value)\n",
    "            else value.astype(str)\n",
    "            for value in row\n",
    "        )\n",
    "        for row in array\n",
    "    )\n",
    "    line = (\n",
    "        name\n",
    "        and f\"{name} = \"\n",
    "        + f\"\\\\begin{{{brackets.value}matrix}}\\n{rows}\\n\\\\end{{{brackets.value}matrix}}\"\n",
    "    )\n",
    "\n",
    "    return f\"${line}$\"\n",
    "\n",
    "\n",
    "def format_value(val: np.float64) -> str:\n",
    "    if np.float64.is_integer(val):\n",
    "        val = val.astype(int)\n",
    "\n",
    "    absed = np.abs(val)\n",
    "\n",
    "    return (\"-\" if val < 0 else \"\") + (absed.astype(str) if absed != 1 else \"\")\n",
    "\n",
    "\n",
    "def equation_body(values: list, labels: list, precision: int = 3) -> str:\n",
    "    return \"+\".join(\n",
    "        f\"{format_value(value)}{var}\"\n",
    "        for var, val in zip(labels, values)\n",
    "        if (value := np.round(val, precision))\n",
    "    ).replace(\"+-\", \"-\")\n",
    "\n",
    "\n",
    "def equation_system(\n",
    "    values: np.ndarray, result: np.ndarray, labels: np.array, precision: int = 3\n",
    ") -> str:\n",
    "    line = \"\\\\\\\\\\n\".join(\n",
    "        f\"{equation_body(val, labels, precision)} = {res.astype(int) if np.float64.is_integer(res) else res}\"\n",
    "        for val, res in zip(values, result)\n",
    "    )\n",
    "\n",
    "    return f\"$\\\\begin{{cases}}{line}\\n\\\\end{{cases}}$\"\n",
    "\n",
    "\n",
    "def check(left: np.ndarray, right: np.ndarray, precision: int = 3) -> str:\n",
    "    result = sum(left * right)\n",
    "\n",
    "    # Округляем все значения\n",
    "    left, right = [\n",
    "        [np.round(value, precision) for value in values] for values in [left, right]\n",
    "    ]\n",
    "\n",
    "    # Соединяем при помощи cdot все пары значений без 0\n",
    "    values = [\n",
    "        \"\\cdot\".join([f\"({val})\" if val < 0 else str(val) for val in values])\n",
    "        for values in zip(left, right)\n",
    "        if all(values)\n",
    "    ]\n",
    "\n",
    "    # Все суммируем, добавляем результат\n",
    "    return \"+\".join(values) + f\"={np.round(result, precision)}\"\n"
   ]
  }
 ],
 "metadata": {
  "celltoolbar": "Slideshow",
  "interpreter": {
   "hash": "ca55aede3dcb70635ef2036393433781e4aaab507e591555db64cf20cc55d954"
  },
  "kernelspec": {
   "display_name": "Python 3 (ipykernel)",
   "language": "python",
   "name": "python3"
  },
  "language_info": {
   "codemirror_mode": {
    "name": "ipython",
    "version": 3
   },
   "file_extension": ".py",
   "mimetype": "text/x-python",
   "name": "python",
   "nbconvert_exporter": "python",
   "pygments_lexer": "ipython3",
   "version": "3.9.8"
  }
 },
 "nbformat": 4,
 "nbformat_minor": 2
}
