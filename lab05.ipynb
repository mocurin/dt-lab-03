{
 "cells": [
  {
   "cell_type": "code",
   "execution_count": 1,
   "metadata": {},
   "outputs": [],
   "source": [
    "from src.game import StrategyMatrix, optimal\n",
    "from simplexlib.src.table import Table, Simplex, Format, pretty_value\n",
    "from IPython.display import display_markdown\n",
    "\n",
    "\n",
    "matrix = StrategyMatrix(\n",
    "    [\n",
    "        [4, 4, 0, 6, 12],\n",
    "        [1, 14, 14, 13, 11],\n",
    "        [17, 6, 14, 4, 3],\n",
    "        [18, 16, 13, 15, 16],\n",
    "    ]\n",
    ")\n"
   ]
  },
  {
   "cell_type": "code",
   "execution_count": 2,
   "metadata": {},
   "outputs": [
    {
     "data": {
      "text/markdown": [
       "### Сформулируем задачу для нахождения оптимальной смешанной стратегии игрока A:"
      ]
     },
     "metadata": {},
     "output_type": "display_data"
    },
    {
     "data": {
      "text/markdown": [
       "$W = -v_1-v_2-v_3-v_4 \\rightarrow min$"
      ]
     },
     "metadata": {},
     "output_type": "display_data"
    },
    {
     "data": {
      "text/markdown": [
       "$\\begin{cases}-4v_1-v_2-17v_3-18v_4-v_5 = 1\\\\\n",
       "-4v_1-14v_2-6v_3-16v_4-v_6 = 1\\\\\n",
       "-14v_2-14v_3-13v_4-v_7 = 1\\\\\n",
       "-6v_1-13v_2-4v_3-15v_4-v_8 = 1\\\\\n",
       "-12v_1-11v_2-3v_3-16v_4-v_9 = 1\n",
       "\\end{cases}$"
      ]
     },
     "metadata": {},
     "output_type": "display_data"
    },
    {
     "data": {
      "text/markdown": [
       "$v_0, v_1, v_2, v_3, v_4, v_5, v_6, v_7, v_8 ≥ 0$"
      ]
     },
     "metadata": {},
     "output_type": "display_data"
    },
    {
     "data": {
      "text/markdown": [
       "#### Исходная таблица:"
      ]
     },
     "metadata": {},
     "output_type": "display_data"
    },
    {
     "data": {
      "text/markdown": [
       "|       |   $s_0$ |   $v_1$ |   $v_2$ |   $v_3$ |   $v_4$ |\n",
       "|:------|--------:|--------:|--------:|--------:|--------:|\n",
       "| $v_5$ |      -1 |      -4 |      -1 |     -17 |     -18 |\n",
       "| $v_6$ |      -1 |      -4 |     -14 |      -6 |     -16 |\n",
       "| $v_7$ |      -1 |      -0 |     -14 |     -14 |     -13 |\n",
       "| $v_8$ |      -1 |      -6 |     -13 |      -4 |     -15 |\n",
       "| $v_9$ |      -1 |     -12 |     -11 |      -3 |     -16 |\n",
       "| $W$   |       0 |      -1 |      -1 |      -1 |      -1 |"
      ]
     },
     "metadata": {},
     "output_type": "display_data"
    },
    {
     "data": {
      "text/markdown": [
       "#### Индекс разрешающего элемента: (0, 4)"
      ]
     },
     "metadata": {},
     "output_type": "display_data"
    },
    {
     "data": {
      "text/markdown": [
       "|       |   $s_0$ |   $v_1$ |   $v_2$ |   $v_3$ |   $v_5$ |\n",
       "|:------|--------:|--------:|--------:|--------:|--------:|\n",
       "| $v_4$ |   0.056 |   0.222 |   0.056 |   0.944 |  -0.056 |\n",
       "| $v_6$ |  -0.111 |  -0.444 | -13.111 |   9.111 |  -0.889 |\n",
       "| $v_7$ |  -0.278 |   2.889 | -13.278 |  -1.722 |  -0.722 |\n",
       "| $v_8$ |  -0.167 |  -2.667 | -12.167 |  10.167 |  -0.833 |\n",
       "| $v_9$ |  -0.111 |  -8.444 | -10.111 |  12.111 |  -0.889 |\n",
       "| $W$   |   0.056 |  -0.778 |  -0.944 |  -0.056 |  -0.056 |"
      ]
     },
     "metadata": {},
     "output_type": "display_data"
    },
    {
     "data": {
      "text/markdown": [
       "$v_4 = 0.056, v_6 = -0.111, v_7 = -0.278, v_8 = -0.167, v_9 = -0.111$, $x_1 = x_2 = x_3 = x_5 = 0$"
      ]
     },
     "metadata": {},
     "output_type": "display_data"
    },
    {
     "data": {
      "text/markdown": [
       "#### Индекс разрешающего элемента: (1, 2)"
      ]
     },
     "metadata": {},
     "output_type": "display_data"
    },
    {
     "data": {
      "text/markdown": [
       "|       |   $s_0$ |   $v_1$ |   $v_6$ |   $v_3$ |   $v_5$ |\n",
       "|:------|--------:|--------:|--------:|--------:|--------:|\n",
       "| $v_4$ |   0.055 |   0.22  |   0.004 |   0.983 |  -0.059 |\n",
       "| $v_2$ |   0.008 |   0.034 |  -0.076 |  -0.695 |   0.068 |\n",
       "| $v_7$ |  -0.165 |   3.339 |  -1.013 | -10.949 |   0.178 |\n",
       "| $v_8$ |  -0.064 |  -2.254 |  -0.928 |   1.712 |  -0.008 |\n",
       "| $v_9$ |  -0.025 |  -8.102 |  -0.771 |   5.085 |  -0.203 |\n",
       "| $W$   |   0.064 |  -0.746 |  -0.072 |  -0.712 |   0.008 |"
      ]
     },
     "metadata": {},
     "output_type": "display_data"
    },
    {
     "data": {
      "text/markdown": [
       "$v_4 = 0.055, v_2 = 0.008, v_7 = -0.165, v_8 = -0.064, v_9 = -0.025$, $x_1 = x_6 = x_3 = x_5 = 0$"
      ]
     },
     "metadata": {},
     "output_type": "display_data"
    },
    {
     "data": {
      "text/markdown": [
       "#### Индекс разрешающего элемента: (2, 3)"
      ]
     },
     "metadata": {},
     "output_type": "display_data"
    },
    {
     "data": {
      "text/markdown": [
       "|       |   $s_0$ |   $v_1$ |   $v_6$ |   $v_7$ |   $v_5$ |\n",
       "|:------|--------:|--------:|--------:|--------:|--------:|\n",
       "| $v_4$ |   0.04  |   0.52  |  -0.087 |   0.09  |  -0.043 |\n",
       "| $v_2$ |   0.019 |  -0.178 |  -0.012 |  -0.063 |   0.057 |\n",
       "| $v_3$ |   0.015 |  -0.305 |   0.092 |  -0.091 |  -0.016 |\n",
       "| $v_8$ |  -0.089 |  -1.732 |  -1.086 |   0.156 |   0.019 |\n",
       "| $v_9$ |  -0.102 |  -6.551 |  -1.241 |   0.464 |  -0.121 |\n",
       "| $W$   |   0.074 |  -0.963 |  -0.006 |  -0.065 |  -0.003 |"
      ]
     },
     "metadata": {},
     "output_type": "display_data"
    },
    {
     "data": {
      "text/markdown": [
       "$v_4 = 0.04, v_2 = 0.019, v_3 = 0.015, v_8 = -0.089, v_9 = -0.102$, $x_1 = x_6 = x_7 = x_5 = 0$"
      ]
     },
     "metadata": {},
     "output_type": "display_data"
    },
    {
     "data": {
      "text/markdown": [
       "#### Индекс разрешающего элемента: (4, 1)"
      ]
     },
     "metadata": {},
     "output_type": "display_data"
    },
    {
     "data": {
      "text/markdown": [
       "|       |   $s_0$ |   $v_9$ |   $v_6$ |   $v_7$ |   $v_5$ |\n",
       "|:------|--------:|--------:|--------:|--------:|--------:|\n",
       "| $v_4$ |   0.032 |   0.079 |  -0.185 |   0.127 |  -0.053 |\n",
       "| $v_2$ |   0.022 |  -0.027 |   0.022 |  -0.076 |   0.06  |\n",
       "| $v_3$ |   0.02  |  -0.047 |   0.15  |  -0.113 |  -0.011 |\n",
       "| $v_8$ |  -0.062 |  -0.264 |  -0.758 |   0.034 |   0.051 |\n",
       "| $v_1$ |   0.016 |  -0.153 |   0.19  |  -0.071 |   0.018 |\n",
       "| $W$   |   0.089 |  -0.147 |   0.176 |  -0.133 |   0.015 |"
      ]
     },
     "metadata": {},
     "output_type": "display_data"
    },
    {
     "data": {
      "text/markdown": [
       "$v_4 = 0.032, v_2 = 0.022, v_3 = 0.02, v_8 = -0.062, v_1 = 0.016$, $x_9 = x_6 = x_7 = x_5 = 0$"
      ]
     },
     "metadata": {},
     "output_type": "display_data"
    },
    {
     "data": {
      "text/markdown": [
       "#### Индекс разрешающего элемента: (3, 2)"
      ]
     },
     "metadata": {},
     "output_type": "display_data"
    },
    {
     "data": {
      "text/markdown": [
       "|       |   $s_0$ |   $v_9$ |   $v_8$ |   $v_7$ |   $v_5$ |\n",
       "|:------|--------:|--------:|--------:|--------:|--------:|\n",
       "| $v_4$ |   0.047 |   0.144 |  -0.244 |   0.118 |  -0.065 |\n",
       "| $v_2$ |   0.02  |  -0.035 |   0.029 |  -0.075 |   0.061 |\n",
       "| $v_3$ |   0.007 |  -0.099 |   0.198 |  -0.106 |  -0     |\n",
       "| $v_6$ |   0.082 |   0.349 |  -1.319 |  -0.044 |  -0.068 |\n",
       "| $v_1$ |   0     |  -0.219 |   0.25  |  -0.062 |   0.031 |\n",
       "| $W$   |   0.075 |  -0.208 |   0.233 |  -0.125 |   0.027 |"
      ]
     },
     "metadata": {},
     "output_type": "display_data"
    },
    {
     "data": {
      "text/markdown": [
       "$v_4 = 0.047, v_2 = 0.02, v_3 = 0.007, v_6 = 0.082, v_1 = 0$, $x_9 = x_8 = x_7 = x_5 = 0$"
      ]
     },
     "metadata": {},
     "output_type": "display_data"
    },
    {
     "data": {
      "text/markdown": [
       "#### Индекс разрешающего элемента: (4, 2)"
      ]
     },
     "metadata": {},
     "output_type": "display_data"
    },
    {
     "data": {
      "text/markdown": [
       "|       |   $s_0$ |   $v_9$ |   $v_1$ |   $v_7$ |   $v_5$ |\n",
       "|:------|--------:|--------:|--------:|--------:|--------:|\n",
       "| $v_4$ |   0.047 |  -0.07  |   0.978 |   0.057 |  -0.035 |\n",
       "| $v_2$ |   0.02  |  -0.01  |  -0.115 |  -0.068 |   0.058 |\n",
       "| $v_3$ |   0.007 |   0.075 |  -0.793 |  -0.057 |  -0.025 |\n",
       "| $v_6$ |   0.082 |  -0.805 |   5.277 |  -0.374 |   0.097 |\n",
       "| $v_8$ |   0     |  -0.875 |   4     |  -0.25  |   0.125 |\n",
       "| $W$   |   0.075 |  -0.005 |  -0.93  |  -0.067 |  -0.002 |"
      ]
     },
     "metadata": {},
     "output_type": "display_data"
    },
    {
     "data": {
      "text/markdown": [
       "$v_4 = 0.047, v_2 = 0.02, v_3 = 0.007, v_6 = 0.082, v_8 = 0$, $x_9 = x_1 = x_7 = x_5 = 0$"
      ]
     },
     "metadata": {},
     "output_type": "display_data"
    },
    {
     "data": {
      "text/markdown": [
       "#### Проверка решения"
      ]
     },
     "metadata": {},
     "output_type": "display_data"
    },
    {
     "data": {
      "text/markdown": [
       "$W = -0.075 = 0v_1+0.02v_2+0.007v_3+0.047v_4 = 0\\cdot(-1)+0.02\\cdot(-1)+0.007\\cdot(-1)+0.047\\cdot(-1) = 0-0.02-0.007-0.047 = -0.075$"
      ]
     },
     "metadata": {},
     "output_type": "display_data"
    },
    {
     "data": {
      "text/markdown": [
       "#### Оптимальная смешанная стратегия игрока A:"
      ]
     },
     "metadata": {},
     "output_type": "display_data"
    },
    {
     "data": {
      "text/markdown": [
       "$h=13.367$"
      ]
     },
     "metadata": {},
     "output_type": "display_data"
    },
    {
     "data": {
      "text/markdown": [
       "$y=[0, 0.267, 0.1, 0.633]$"
      ]
     },
     "metadata": {},
     "output_type": "display_data"
    }
   ],
   "source": [
    "source = matrix.inverse()\n",
    "\n",
    "fmt = {\n",
    "    \"default_var_sym\": \"v\",\n",
    "    \"default_tgt_sym\": \"W\",\n",
    "    \"default_precision\": 3,\n",
    "}\n",
    "\n",
    "display_markdown(\n",
    "    \"### Сформулируем задачу для нахождения оптимальной смешанной стратегии игрока A:\",\n",
    "    Format(source, **fmt).target(),\n",
    "    Format(source, **fmt).system(),\n",
    "    Format(source, **fmt).var_zero_constraint(),\n",
    "    \"#### Исходная таблица:\",\n",
    "    Format(source, **fmt).table(),\n",
    "    raw=True,\n",
    ")\n",
    "summary = Simplex.resolve(source)\n",
    "\n",
    "for table, pos in zip(summary.history, summary.solvers):\n",
    "    display_markdown(\n",
    "        f\"#### Индекс разрешающего элемента: {pos}\",\n",
    "        Format(table, **fmt).table(),\n",
    "        f\"{Format(table, **fmt).base_vars()}, {Format(table).free_vars()}\",\n",
    "        raw=True,\n",
    "    )\n",
    "\n",
    "g, vals = optimal(table)\n",
    "\n",
    "display_markdown(\n",
    "    \"#### Проверка решения\",\n",
    "    Format(table, **fmt).check(summary.source.c),\n",
    "    \"#### Оптимальная смешанная стратегия игрока A:\",\n",
    "    f\"$h={pretty_value(g, 3)}$\",\n",
    "    f\"$y=[{', '.join(pretty_value(val, 3) for val in vals)}]$\",\n",
    "    raw=True\n",
    ")"
   ]
  },
  {
   "cell_type": "code",
   "execution_count": 3,
   "metadata": {},
   "outputs": [
    {
     "data": {
      "text/markdown": [
       "### Сформулируем задачу для нахождения оптимальной смешанной стратегии игрока B:"
      ]
     },
     "metadata": {},
     "output_type": "display_data"
    },
    {
     "data": {
      "text/markdown": [
       "$Z = v_1+v_2+v_3+v_4+v_5 \\rightarrow min$"
      ]
     },
     "metadata": {},
     "output_type": "display_data"
    },
    {
     "data": {
      "text/markdown": [
       "$\\begin{cases}4v_1+4v_2+6v_4+12v_5+v_6 = 1\\\\\n",
       "v_1+14v_2+14v_3+13v_4+11v_5+v_7 = 1\\\\\n",
       "17v_1+6v_2+14v_3+4v_4+3v_5+v_8 = 1\\\\\n",
       "18v_1+16v_2+13v_3+15v_4+16v_5+v_9 = 1\n",
       "\\end{cases}$"
      ]
     },
     "metadata": {},
     "output_type": "display_data"
    },
    {
     "data": {
      "text/markdown": [
       "$v_0, v_1, v_2, v_3, v_4, v_5, v_6, v_7, v_8 ≥ 0$"
      ]
     },
     "metadata": {},
     "output_type": "display_data"
    },
    {
     "data": {
      "text/markdown": [
       "#### Исходная таблица:"
      ]
     },
     "metadata": {},
     "output_type": "display_data"
    },
    {
     "data": {
      "text/markdown": [
       "|       |   $s_0$ |   $v_1$ |   $v_2$ |   $v_3$ |   $v_4$ |   $v_5$ |\n",
       "|:------|--------:|--------:|--------:|--------:|--------:|--------:|\n",
       "| $v_6$ |       1 |       4 |       4 |       0 |       6 |      12 |\n",
       "| $v_7$ |       1 |       1 |      14 |      14 |      13 |      11 |\n",
       "| $v_8$ |       1 |      17 |       6 |      14 |       4 |       3 |\n",
       "| $v_9$ |       1 |      18 |      16 |      13 |      15 |      16 |\n",
       "| $Z$   |       0 |       1 |       1 |       1 |       1 |       1 |"
      ]
     },
     "metadata": {},
     "output_type": "display_data"
    },
    {
     "data": {
      "text/markdown": [
       "#### Индекс разрешающего элемента: (3, 1)"
      ]
     },
     "metadata": {},
     "output_type": "display_data"
    },
    {
     "data": {
      "text/markdown": [
       "|       |   $s_0$ |   $v_9$ |   $v_2$ |   $v_3$ |   $v_4$ |   $v_5$ |\n",
       "|:------|--------:|--------:|--------:|--------:|--------:|--------:|\n",
       "| $v_6$ |   0.778 |  -0.222 |   0.444 |  -2.889 |   2.667 |   8.444 |\n",
       "| $v_7$ |   0.944 |  -0.056 |  13.111 |  13.278 |  12.167 |  10.111 |\n",
       "| $v_8$ |   0.056 |  -0.944 |  -9.111 |   1.722 | -10.167 | -12.111 |\n",
       "| $v_1$ |   0.056 |   0.056 |   0.889 |   0.722 |   0.833 |   0.889 |\n",
       "| $Z$   |  -0.056 |  -0.056 |   0.111 |   0.278 |   0.167 |   0.111 |"
      ]
     },
     "metadata": {},
     "output_type": "display_data"
    },
    {
     "data": {
      "text/markdown": [
       "$v_6 = 0.778, v_7 = 0.944, v_8 = 0.056, v_1 = 0.056$, $x_9 = x_2 = x_3 = x_4 = x_5 = 0$"
      ]
     },
     "metadata": {},
     "output_type": "display_data"
    },
    {
     "data": {
      "text/markdown": [
       "#### Индекс разрешающего элемента: (2, 3)"
      ]
     },
     "metadata": {},
     "output_type": "display_data"
    },
    {
     "data": {
      "text/markdown": [
       "|       |   $s_0$ |   $v_9$ |   $v_2$ |   $v_8$ |   $v_4$ |   $v_5$ |\n",
       "|:------|--------:|--------:|--------:|--------:|--------:|--------:|\n",
       "| $v_6$ |   0.871 |  -1.806 | -14.839 |   1.677 | -14.387 | -11.871 |\n",
       "| $v_7$ |   0.516 |   7.226 |  83.355 |  -7.71  |  90.548 | 103.484 |\n",
       "| $v_3$ |   0.032 |  -0.548 |  -5.29  |   0.581 |  -5.903 |  -7.032 |\n",
       "| $v_1$ |   0.032 |   0.452 |   4.71  |  -0.419 |   5.097 |   5.968 |\n",
       "| $Z$   |  -0.065 |   0.097 |   1.581 |  -0.161 |   1.806 |   2.065 |"
      ]
     },
     "metadata": {},
     "output_type": "display_data"
    },
    {
     "data": {
      "text/markdown": [
       "$v_6 = 0.871, v_7 = 0.516, v_3 = 0.032, v_1 = 0.032$, $x_9 = x_2 = x_8 = x_4 = x_5 = 0$"
      ]
     },
     "metadata": {},
     "output_type": "display_data"
    },
    {
     "data": {
      "text/markdown": [
       "#### Индекс разрешающего элемента: (1, 5)"
      ]
     },
     "metadata": {},
     "output_type": "display_data"
    },
    {
     "data": {
      "text/markdown": [
       "|       |   $s_0$ |   $v_9$ |   $v_2$ |   $v_8$ |   $v_4$ |   $v_7$ |\n",
       "|:------|--------:|--------:|--------:|--------:|--------:|--------:|\n",
       "| $v_6$ |   0.93  |  -0.978 |  -5.277 |   0.793 |  -4     |   0.115 |\n",
       "| $v_5$ |   0.005 |   0.07  |   0.805 |  -0.075 |   0.875 |   0.01  |\n",
       "| $v_3$ |   0.067 |  -0.057 |   0.374 |   0.057 |   0.25  |   0.068 |\n",
       "| $v_1$ |   0.002 |   0.035 |  -0.097 |   0.025 |  -0.125 |  -0.058 |\n",
       "| $Z$   |  -0.075 |  -0.047 |  -0.082 |  -0.007 |   0     |  -0.02  |"
      ]
     },
     "metadata": {},
     "output_type": "display_data"
    },
    {
     "data": {
      "text/markdown": [
       "$v_6 = 0.93, v_5 = 0.005, v_3 = 0.067, v_1 = 0.002$, $x_9 = x_2 = x_8 = x_4 = x_7 = 0$"
      ]
     },
     "metadata": {},
     "output_type": "display_data"
    },
    {
     "data": {
      "text/markdown": [
       "#### Индекс разрешающего элемента: (1, 4)"
      ]
     },
     "metadata": {},
     "output_type": "display_data"
    },
    {
     "data": {
      "text/markdown": [
       "|       |   $s_0$ |   $v_9$ |   $v_2$ |   $v_8$ |   $v_5$ |   $v_7$ |\n",
       "|:------|--------:|--------:|--------:|--------:|--------:|--------:|\n",
       "| $v_6$ |   0.953 |  -0.658 |  -1.595 |   0.452 |   4.571 |   0.159 |\n",
       "| $v_4$ |   0.006 |   0.08  |   0.921 |  -0.085 |   1.143 |   0.011 |\n",
       "| $v_3$ |   0.066 |  -0.077 |   0.144 |   0.078 |  -0.286 |   0.065 |\n",
       "| $v_1$ |   0.003 |   0.045 |   0.018 |   0.015 |   0.143 |  -0.056 |\n",
       "| $Z$   |  -0.075 |  -0.047 |  -0.082 |  -0.007 |  -0     |  -0.02  |"
      ]
     },
     "metadata": {},
     "output_type": "display_data"
    },
    {
     "data": {
      "text/markdown": [
       "$v_6 = 0.953, v_4 = 0.006, v_3 = 0.066, v_1 = 0.003$, $x_9 = x_2 = x_8 = x_5 = x_7 = 0$"
      ]
     },
     "metadata": {},
     "output_type": "display_data"
    },
    {
     "data": {
      "text/markdown": [
       "#### Проверка решения"
      ]
     },
     "metadata": {},
     "output_type": "display_data"
    },
    {
     "data": {
      "text/markdown": [
       "$Z = 0.075 = 0.003v_1+0v_2+0.066v_3+0.006v_4+0v_5 = 0.003\\cdot1+0\\cdot1+0.066\\cdot1+0.006\\cdot1+0\\cdot1 = 0.003+0+0.066+0.006+0 = 0.075$"
      ]
     },
     "metadata": {},
     "output_type": "display_data"
    },
    {
     "data": {
      "text/markdown": [
       "#### Оптимальная смешанная стратегия игрока B:"
      ]
     },
     "metadata": {},
     "output_type": "display_data"
    },
    {
     "data": {
      "text/markdown": [
       "$h=-13.367$"
      ]
     },
     "metadata": {},
     "output_type": "display_data"
    },
    {
     "data": {
      "text/markdown": [
       "$y=[-0.043, 0, -0.881, -0.076, 0]$"
      ]
     },
     "metadata": {},
     "output_type": "display_data"
    }
   ],
   "source": [
    "source = matrix.straight()\n",
    "\n",
    "summary = Simplex.resolve(source)\n",
    "\n",
    "fmt = {\n",
    "    \"default_var_sym\": \"v\",\n",
    "    \"default_tgt_sym\": \"Z\",\n",
    "    \"default_precision\": 3,\n",
    "}\n",
    "\n",
    "display_markdown(\n",
    "    \"### Сформулируем задачу для нахождения оптимальной смешанной стратегии игрока B:\",\n",
    "    Format(source, **fmt).target(),\n",
    "    Format(source, **fmt).system(),\n",
    "    Format(source, **fmt).var_zero_constraint(),\n",
    "    \"#### Исходная таблица:\",\n",
    "    Format(source, **fmt).table(),\n",
    "    raw=True,\n",
    ")\n",
    "\n",
    "for table, pos in zip(summary.history, summary.solvers):\n",
    "    display_markdown(\n",
    "        f\"#### Индекс разрешающего элемента: {pos}\",\n",
    "        Format(table, **fmt).table(),\n",
    "        f\"{Format(table, **fmt).base_vars()}, {Format(table).free_vars()}\",\n",
    "        raw=True,\n",
    "    )\n",
    "\n",
    "h, vals = optimal(table)\n",
    "\n",
    "display_markdown(\n",
    "    \"#### Проверка решения\",\n",
    "    Format(table, **fmt).check(summary.source.c),\n",
    "    \"#### Оптимальная смешанная стратегия игрока B:\",\n",
    "    f\"$h={pretty_value(h, 3)}$\",\n",
    "    f\"$y=[{', '.join(pretty_value(val, 3) for val in vals)}]$\",\n",
    "    raw=True\n",
    ")"
   ]
  },
  {
   "cell_type": "code",
   "execution_count": null,
   "metadata": {},
   "outputs": [],
   "source": []
  }
 ],
 "metadata": {
  "interpreter": {
   "hash": "ca55aede3dcb70635ef2036393433781e4aaab507e591555db64cf20cc55d954"
  },
  "kernelspec": {
   "display_name": "Python 3.9.9 64-bit ('dt-lab-03-fUCJA133': pipenv)",
   "language": "python",
   "name": "python3"
  },
  "language_info": {
   "codemirror_mode": {
    "name": "ipython",
    "version": 3
   },
   "file_extension": ".py",
   "mimetype": "text/x-python",
   "name": "python",
   "nbconvert_exporter": "python",
   "pygments_lexer": "ipython3",
   "version": "3.9.9"
  },
  "orig_nbformat": 4
 },
 "nbformat": 4,
 "nbformat_minor": 2
}
