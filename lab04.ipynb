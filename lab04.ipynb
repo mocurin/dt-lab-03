{
 "cells": [
  {
   "cell_type": "code",
   "execution_count": 7,
   "metadata": {},
   "outputs": [
    {
     "data": {
      "text/markdown": [
       "### Исходная задача в канонической форме"
      ]
     },
     "metadata": {},
     "output_type": "display_data"
    },
    {
     "data": {
      "text/markdown": [
       "$$F = 2x_1+5x_2+3x_3 \\rightarrow min$$"
      ]
     },
     "metadata": {},
     "output_type": "display_data"
    },
    {
     "data": {
      "text/markdown": [
       "$\\begin{cases}2x_1+x_2+2x_3+x_4 = 6\\\\\n",
       "x_1+2x_2+x_5 = 6\\\\\n",
       "0.5x_2+x_3+x_6 = 2\n",
       "\\end{cases}$"
      ]
     },
     "metadata": {},
     "output_type": "display_data"
    },
    {
     "data": {
      "text/markdown": [
       "$$x_0, x_1, x_2, x_3, x_4, x_5 ≥ 0$$"
      ]
     },
     "metadata": {},
     "output_type": "display_data"
    }
   ],
   "source": [
    "from simplexlib.src.table import Table, V, Format, Simplex, pretty_value\n",
    "from IPython.display import display_markdown\n",
    "\n",
    "\n",
    "source = Table.straight(\n",
    "    [2, 5, 3],\n",
    "    V[2, 1, 2] <= 6,\n",
    "    V[1, 2, 0] <= 6,\n",
    "    V[0, 0.5, 1] <= 2,\n",
    "    # expanded=True,\n",
    ") >> min\n",
    "\n",
    "\n",
    "Format.default_precision = 3\n",
    "\n",
    "\n",
    "display_markdown(\n",
    "    \"### Исходная задача в канонической форме\",\n",
    "    f\"${Format(source).target()}$\",\n",
    "    Format(source).system(),\n",
    "    f\"${Format(source).var_zero_constraint()}$\",\n",
    "    raw=True\n",
    ")"
   ]
  },
  {
   "cell_type": "code",
   "execution_count": 8,
   "metadata": {},
   "outputs": [
    {
     "data": {
      "text/markdown": [
       "### Шаг 1"
      ]
     },
     "metadata": {},
     "output_type": "display_data"
    },
    {
     "data": {
      "text/markdown": [
       "### Исходная Simplex-таблица"
      ]
     },
     "metadata": {},
     "output_type": "display_data"
    },
    {
     "data": {
      "text/markdown": [
       "|       |   $s_0$ |   $x_1$ |   $x_2$ |   $x_3$ |\n",
       "|:------|--------:|--------:|--------:|--------:|\n",
       "| $x_4$ |       6 |       2 |     1   |       2 |\n",
       "| $x_5$ |       6 |       1 |     2   |       0 |\n",
       "| $x_6$ |       2 |       0 |     0.5 |       1 |\n",
       "| $F$   |      -0 |      -2 |    -5   |      -3 |"
      ]
     },
     "metadata": {},
     "output_type": "display_data"
    },
    {
     "data": {
      "text/markdown": [
       "### Конечная Simplex-таблица"
      ]
     },
     "metadata": {},
     "output_type": "display_data"
    },
    {
     "data": {
      "text/markdown": [
       "|       |   $s_0$ |   $x_4$ |   $x_5$ |   $x_6$ |\n",
       "|:------|--------:|--------:|--------:|--------:|\n",
       "| $x_1$ |    1    |   0.5   |    0    |   -1    |\n",
       "| $x_2$ |    2.5  |  -0.25  |    0.5  |    0.5  |\n",
       "| $x_3$ |    0.75 |   0.125 |   -0.25 |    0.75 |\n",
       "| $F$   |   16.75 |   0.125 |    1.75 |    2.75 |"
      ]
     },
     "metadata": {},
     "output_type": "display_data"
    },
    {
     "data": {
      "text/markdown": [
       "Добавим ограничение, задающееся следующими значениями:"
      ]
     },
     "metadata": {},
     "output_type": "display_data"
    },
    {
     "data": {
      "text/markdown": [
       "$a=[-0.125, -0.75, -0.75], b=-0.75$"
      ]
     },
     "metadata": {},
     "output_type": "display_data"
    },
    {
     "data": {
      "text/markdown": [
       "### Шаг 2"
      ]
     },
     "metadata": {},
     "output_type": "display_data"
    },
    {
     "data": {
      "text/markdown": [
       "### Исходная Simplex-таблица"
      ]
     },
     "metadata": {},
     "output_type": "display_data"
    },
    {
     "data": {
      "text/markdown": [
       "|       |   $s_0$ |   $x_4$ |   $x_5$ |   $x_6$ |\n",
       "|:------|--------:|--------:|--------:|--------:|\n",
       "| $x_1$ |    1    |   0.5   |    0    |   -1    |\n",
       "| $x_2$ |    2.5  |  -0.25  |    0.5  |    0.5  |\n",
       "| $x_3$ |    0.75 |   0.125 |   -0.25 |    0.75 |\n",
       "| $x_7$ |   -0.75 |  -0.125 |   -0.75 |   -0.75 |\n",
       "| $F$   |   16.75 |   0.125 |    1.75 |    2.75 |"
      ]
     },
     "metadata": {},
     "output_type": "display_data"
    },
    {
     "data": {
      "text/markdown": [
       "### Конечная Simplex-таблица"
      ]
     },
     "metadata": {},
     "output_type": "display_data"
    },
    {
     "data": {
      "text/markdown": [
       "|       |   $s_0$ |   $x_1$ |   $x_7$ |   $x_6$ |\n",
       "|:------|--------:|--------:|--------:|--------:|\n",
       "| $x_4$ |   2     |   2     |   0     |  -2     |\n",
       "| $x_2$ |   2.667 |   0.667 |   0.667 |  -0.667 |\n",
       "| $x_3$ |   0.667 |  -0.333 |  -0.333 |   1.333 |\n",
       "| $x_5$ |   0.667 |  -0.333 |  -1.333 |   1.333 |\n",
       "| $F$   |  15.333 |   0.333 |   2.333 |   0.667 |"
      ]
     },
     "metadata": {},
     "output_type": "display_data"
    },
    {
     "data": {
      "text/markdown": [
       "Добавим ограничение, задающееся следующими значениями:"
      ]
     },
     "metadata": {},
     "output_type": "display_data"
    },
    {
     "data": {
      "text/markdown": [
       "$a=[-0.667, -0.667, -0.333], b=-0.667$"
      ]
     },
     "metadata": {},
     "output_type": "display_data"
    },
    {
     "data": {
      "text/markdown": [
       "### Шаг 3"
      ]
     },
     "metadata": {},
     "output_type": "display_data"
    },
    {
     "data": {
      "text/markdown": [
       "### Исходная Simplex-таблица"
      ]
     },
     "metadata": {},
     "output_type": "display_data"
    },
    {
     "data": {
      "text/markdown": [
       "|       |   $s_0$ |   $x_1$ |   $x_7$ |   $x_6$ |\n",
       "|:------|--------:|--------:|--------:|--------:|\n",
       "| $x_4$ |   2     |   2     |   0     |  -2     |\n",
       "| $x_2$ |   2.667 |   0.667 |   0.667 |  -0.667 |\n",
       "| $x_3$ |   0.667 |  -0.333 |  -0.333 |   1.333 |\n",
       "| $x_5$ |   0.667 |  -0.333 |  -1.333 |   1.333 |\n",
       "| $x_8$ |  -0.667 |  -0.667 |  -0.667 |  -0.333 |\n",
       "| $F$   |  15.333 |   0.333 |   2.333 |   0.667 |"
      ]
     },
     "metadata": {},
     "output_type": "display_data"
    },
    {
     "data": {
      "text/markdown": [
       "### Конечная Simplex-таблица"
      ]
     },
     "metadata": {},
     "output_type": "display_data"
    },
    {
     "data": {
      "text/markdown": [
       "|       |   $s_0$ |   $x_8$ |   $x_7$ |   $x_6$ |\n",
       "|:------|--------:|--------:|--------:|--------:|\n",
       "| $x_1$ |       1 |    -1.5 |       1 |     0.5 |\n",
       "| $x_2$ |       2 |     1   |       0 |    -1   |\n",
       "| $x_3$ |       1 |    -0.5 |       0 |     1.5 |\n",
       "| $x_5$ |       1 |    -0.5 |      -1 |     1.5 |\n",
       "| $x_4$ |       0 |     3   |      -2 |    -3   |\n",
       "| $F$   |      15 |     0.5 |       2 |     0.5 |"
      ]
     },
     "metadata": {},
     "output_type": "display_data"
    },
    {
     "data": {
      "text/markdown": [
       "Найдено целочисленное решение"
      ]
     },
     "metadata": {},
     "output_type": "display_data"
    },
    {
     "data": {
      "text/markdown": [
       "$x_1 = 1, x_2 = 2, x_3 = 1, x_5 = 1, x_4 = 0$, $x_8 = x_7 = x_6 = 0$"
      ]
     },
     "metadata": {},
     "output_type": "display_data"
    },
    {
     "data": {
      "text/markdown": [
       "$F=15$"
      ]
     },
     "metadata": {},
     "output_type": "display_data"
    }
   ],
   "source": [
    "from src.cutting_plane import CuttingPlane, has_integer_solution\n",
    "\n",
    "summary = CuttingPlane.resolve(source >> max)\n",
    "\n",
    "\n",
    "for idx, result in enumerate(summary.history):\n",
    "    display_markdown(\n",
    "        f\"### Шаг {idx + 1}\",\n",
    "        \"### Исходная Simplex-таблица\",\n",
    "        Format(result.source, default_precision=3).table(),\n",
    "        raw=True,\n",
    "    )\n",
    "\n",
    "    display_markdown(\n",
    "        \"### Конечная Simplex-таблица\",\n",
    "        Format(result.result, default_precision=3).table(),\n",
    "        raw=True,\n",
    "    )\n",
    "\n",
    "    *vec, b = [pretty_value(val, 3) for val in CuttingPlane._infer_constraint(result.result).data]\n",
    "\n",
    "    if has_integer_solution(result.result):\n",
    "        display_markdown(\n",
    "            \"Найдено целочисленное решение\",\n",
    "            f\"{Format(result.result).base_vars()}, {Format(result.result).free_vars()}\",\n",
    "            f\"$F={pretty_value(result.result.F, 3)}$\",\n",
    "            raw=True,\n",
    "        )\n",
    "    else:\n",
    "        display_markdown(\n",
    "            \"Добавим ограничение, задающееся следующими значениями:\",\n",
    "            f\"$a=[{', '.join(vec)}], b={b}$\",\n",
    "            raw=True,\n",
    "        )"
   ]
  },
  {
   "cell_type": "code",
   "execution_count": null,
   "metadata": {},
   "outputs": [],
   "source": []
  }
 ],
 "metadata": {
  "interpreter": {
   "hash": "ca55aede3dcb70635ef2036393433781e4aaab507e591555db64cf20cc55d954"
  },
  "kernelspec": {
   "display_name": "Python 3.9.9 64-bit ('dt-lab-03-fUCJA133': pipenv)",
   "language": "python",
   "name": "python3"
  },
  "language_info": {
   "codemirror_mode": {
    "name": "ipython",
    "version": 3
   },
   "file_extension": ".py",
   "mimetype": "text/x-python",
   "name": "python",
   "nbconvert_exporter": "python",
   "pygments_lexer": "ipython3",
   "version": "3.9.8"
  },
  "orig_nbformat": 4
 },
 "nbformat": 4,
 "nbformat_minor": 2
}
